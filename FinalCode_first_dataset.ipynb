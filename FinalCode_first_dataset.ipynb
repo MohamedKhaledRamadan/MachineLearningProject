{
 "cells": [
  {
   "cell_type": "markdown",
   "metadata": {
    "id": "_ImPL1wxe5tC"
   },
   "source": [
    "# Preparing the dataset"
   ]
  },
  {
   "cell_type": "markdown",
   "metadata": {
    "id": "F0iLj6AtfFia"
   },
   "source": [
    "## Importing the libraries"
   ]
  },
  {
   "cell_type": "code",
   "execution_count": 1,
   "metadata": {
    "id": "Sy5KVrdCeRMb"
   },
   "outputs": [],
   "source": [
    "#to read the dataframe\n",
    "import pandas as pd    \n",
    "\n",
    "#to plot\n",
    "import matplotlib.pyplot as plt\n",
    "\n",
    "#to measure the time\n",
    "import time\n",
    "\n",
    "#to call mathematical functions\n",
    "import math\n",
    "\n",
    "#to draw tables\n",
    "from tabulate import tabulate\n",
    "\n",
    "#to split the dataset into training set and testing set\n",
    "from sklearn.model_selection import train_test_split\n",
    "\n",
    "#to run the k-cross validation \n",
    "from sklearn.model_selection import cross_val_score\n",
    "from sklearn.model_selection import KFold\n",
    "\n",
    "#for linear regression\n",
    "from sklearn.linear_model import LinearRegression\n",
    "\n",
    "#for random forest regression\n",
    "from sklearn.ensemble import RandomForestRegressor\n",
    "\n",
    "#for knn regression\n",
    "from sklearn import neighbors\n",
    "\n",
    "#for evaluation \n",
    "from sklearn import metrics"
   ]
  },
  {
   "cell_type": "markdown",
   "metadata": {
    "id": "QBLNvok9gQCW"
   },
   "source": [
    "## Reading the dataset as a dataframe"
   ]
  },
  {
   "cell_type": "code",
   "execution_count": 2,
   "metadata": {
    "id": "Y7wa2EEdgV9h"
   },
   "outputs": [],
   "source": [
    "df = pd.read_excel('Folds5x2_pp.xlsx')"
   ]
  },
  {
   "cell_type": "code",
   "execution_count": 3,
   "metadata": {
    "colab": {
     "base_uri": "https://localhost:8080/",
     "height": 195
    },
    "id": "LVR2pALBgciR",
    "outputId": "c1270296-9396-4bf5-db1d-e779a8394f7e"
   },
   "outputs": [
    {
     "data": {
      "text/html": [
       "<div>\n",
       "<style scoped>\n",
       "    .dataframe tbody tr th:only-of-type {\n",
       "        vertical-align: middle;\n",
       "    }\n",
       "\n",
       "    .dataframe tbody tr th {\n",
       "        vertical-align: top;\n",
       "    }\n",
       "\n",
       "    .dataframe thead th {\n",
       "        text-align: right;\n",
       "    }\n",
       "</style>\n",
       "<table border=\"1\" class=\"dataframe\">\n",
       "  <thead>\n",
       "    <tr style=\"text-align: right;\">\n",
       "      <th></th>\n",
       "      <th>AT</th>\n",
       "      <th>V</th>\n",
       "      <th>AP</th>\n",
       "      <th>RH</th>\n",
       "      <th>PE</th>\n",
       "    </tr>\n",
       "  </thead>\n",
       "  <tbody>\n",
       "    <tr>\n",
       "      <th>0</th>\n",
       "      <td>14.96</td>\n",
       "      <td>41.76</td>\n",
       "      <td>1024.07</td>\n",
       "      <td>73.17</td>\n",
       "      <td>463.26</td>\n",
       "    </tr>\n",
       "    <tr>\n",
       "      <th>1</th>\n",
       "      <td>25.18</td>\n",
       "      <td>62.96</td>\n",
       "      <td>1020.04</td>\n",
       "      <td>59.08</td>\n",
       "      <td>444.37</td>\n",
       "    </tr>\n",
       "    <tr>\n",
       "      <th>2</th>\n",
       "      <td>5.11</td>\n",
       "      <td>39.40</td>\n",
       "      <td>1012.16</td>\n",
       "      <td>92.14</td>\n",
       "      <td>488.56</td>\n",
       "    </tr>\n",
       "    <tr>\n",
       "      <th>3</th>\n",
       "      <td>20.86</td>\n",
       "      <td>57.32</td>\n",
       "      <td>1010.24</td>\n",
       "      <td>76.64</td>\n",
       "      <td>446.48</td>\n",
       "    </tr>\n",
       "    <tr>\n",
       "      <th>4</th>\n",
       "      <td>10.82</td>\n",
       "      <td>37.50</td>\n",
       "      <td>1009.23</td>\n",
       "      <td>96.62</td>\n",
       "      <td>473.90</td>\n",
       "    </tr>\n",
       "  </tbody>\n",
       "</table>\n",
       "</div>"
      ],
      "text/plain": [
       "      AT      V       AP     RH      PE\n",
       "0  14.96  41.76  1024.07  73.17  463.26\n",
       "1  25.18  62.96  1020.04  59.08  444.37\n",
       "2   5.11  39.40  1012.16  92.14  488.56\n",
       "3  20.86  57.32  1010.24  76.64  446.48\n",
       "4  10.82  37.50  1009.23  96.62  473.90"
      ]
     },
     "execution_count": 3,
     "metadata": {},
     "output_type": "execute_result"
    }
   ],
   "source": [
    "df.head(5)"
   ]
  },
  {
   "cell_type": "markdown",
   "metadata": {
    "id": "zVR2a0EXgkCI"
   },
   "source": [
    "## Discovering the dataset "
   ]
  },
  {
   "cell_type": "code",
   "execution_count": 4,
   "metadata": {
    "colab": {
     "base_uri": "https://localhost:8080/"
    },
    "id": "gZzUN1ovggMY",
    "outputId": "f9409441-9db8-4c15-fe06-bbae85654374"
   },
   "outputs": [
    {
     "name": "stdout",
     "output_type": "stream",
     "text": [
      "dataset size:  47840\n",
      "number of records:  9568\n",
      "number of features:  4\n"
     ]
    }
   ],
   "source": [
    "#show the number of cells in the dataframe\n",
    "print(\"dataset size: \", df.size)\n",
    "\n",
    "#show the number of records (rows) in the dataframe\n",
    "print(\"number of records: \", len(df))\n",
    "\n",
    "#show the number of features (coulmns) in the dataframe (exculde the response variable)\n",
    "print(\"number of features: \", len(df.columns)-1) "
   ]
  },
  {
   "cell_type": "code",
   "execution_count": 5,
   "metadata": {
    "colab": {
     "base_uri": "https://localhost:8080/"
    },
    "id": "Ekm9lTwQhw2z",
    "outputId": "acd34fcb-2ad6-49d0-9744-998f03fd288f"
   },
   "outputs": [
    {
     "data": {
      "text/plain": [
       "AT    0\n",
       "V     0\n",
       "AP    0\n",
       "RH    0\n",
       "PE    0\n",
       "dtype: int64"
      ]
     },
     "execution_count": 5,
     "metadata": {},
     "output_type": "execute_result"
    }
   ],
   "source": [
    "#show the number of null values in each column\n",
    "df.isnull().sum()"
   ]
  },
  {
   "cell_type": "code",
   "execution_count": 6,
   "metadata": {
    "colab": {
     "base_uri": "https://localhost:8080/",
     "height": 229
    },
    "id": "H-ahItbNiOJ4",
    "outputId": "02571911-31c0-4ac0-ff29-26c245847624"
   },
   "outputs": [
    {
     "data": {
      "text/html": [
       "<div>\n",
       "<style scoped>\n",
       "    .dataframe tbody tr th:only-of-type {\n",
       "        vertical-align: middle;\n",
       "    }\n",
       "\n",
       "    .dataframe tbody tr th {\n",
       "        vertical-align: top;\n",
       "    }\n",
       "\n",
       "    .dataframe thead th {\n",
       "        text-align: right;\n",
       "    }\n",
       "</style>\n",
       "<table border=\"1\" class=\"dataframe\">\n",
       "  <thead>\n",
       "    <tr style=\"text-align: right;\">\n",
       "      <th></th>\n",
       "      <th>Temperature (T) in the range 1.81°C and 37.11°C</th>\n",
       "      <th>Exhaust Vacuum (V) in teh range 25.36-81.56 cm Hg</th>\n",
       "      <th>Ambient Pressure (AP) in the range 992.89-1033.30 milibar</th>\n",
       "      <th>Relative Humidity (RH) in the range 25.56% to 100.16%</th>\n",
       "      <th>Net hourly electrical energy output (EP) 420.26-495.76 MW</th>\n",
       "    </tr>\n",
       "  </thead>\n",
       "  <tbody>\n",
       "    <tr>\n",
       "      <th>0</th>\n",
       "      <td>14.96</td>\n",
       "      <td>41.76</td>\n",
       "      <td>1024.07</td>\n",
       "      <td>73.17</td>\n",
       "      <td>463.26</td>\n",
       "    </tr>\n",
       "    <tr>\n",
       "      <th>1</th>\n",
       "      <td>25.18</td>\n",
       "      <td>62.96</td>\n",
       "      <td>1020.04</td>\n",
       "      <td>59.08</td>\n",
       "      <td>444.37</td>\n",
       "    </tr>\n",
       "    <tr>\n",
       "      <th>2</th>\n",
       "      <td>5.11</td>\n",
       "      <td>39.40</td>\n",
       "      <td>1012.16</td>\n",
       "      <td>92.14</td>\n",
       "      <td>488.56</td>\n",
       "    </tr>\n",
       "    <tr>\n",
       "      <th>3</th>\n",
       "      <td>20.86</td>\n",
       "      <td>57.32</td>\n",
       "      <td>1010.24</td>\n",
       "      <td>76.64</td>\n",
       "      <td>446.48</td>\n",
       "    </tr>\n",
       "    <tr>\n",
       "      <th>4</th>\n",
       "      <td>10.82</td>\n",
       "      <td>37.50</td>\n",
       "      <td>1009.23</td>\n",
       "      <td>96.62</td>\n",
       "      <td>473.90</td>\n",
       "    </tr>\n",
       "  </tbody>\n",
       "</table>\n",
       "</div>"
      ],
      "text/plain": [
       "   Temperature (T) in the range 1.81°C and 37.11°C  \\\n",
       "0                                            14.96   \n",
       "1                                            25.18   \n",
       "2                                             5.11   \n",
       "3                                            20.86   \n",
       "4                                            10.82   \n",
       "\n",
       "   Exhaust Vacuum (V) in teh range 25.36-81.56 cm Hg  \\\n",
       "0                                              41.76   \n",
       "1                                              62.96   \n",
       "2                                              39.40   \n",
       "3                                              57.32   \n",
       "4                                              37.50   \n",
       "\n",
       "   Ambient Pressure (AP) in the range 992.89-1033.30 milibar  \\\n",
       "0                                            1024.07           \n",
       "1                                            1020.04           \n",
       "2                                            1012.16           \n",
       "3                                            1010.24           \n",
       "4                                            1009.23           \n",
       "\n",
       "   Relative Humidity (RH) in the range 25.56% to 100.16%  \\\n",
       "0                                              73.17       \n",
       "1                                              59.08       \n",
       "2                                              92.14       \n",
       "3                                              76.64       \n",
       "4                                              96.62       \n",
       "\n",
       "   Net hourly electrical energy output (EP) 420.26-495.76 MW  \n",
       "0                                             463.26          \n",
       "1                                             444.37          \n",
       "2                                             488.56          \n",
       "3                                             446.48          \n",
       "4                                             473.90          "
      ]
     },
     "execution_count": 6,
     "metadata": {},
     "output_type": "execute_result"
    }
   ],
   "source": [
    "#show each feature with its given description from UCI\n",
    "Description = df.copy()\n",
    "Description = Description.rename(columns = {'AT' : 'Temperature (T) in the range 1.81°C and 37.11°C',\n",
    "                              'AP' : 'Ambient Pressure (AP) in the range 992.89-1033.30 milibar',\n",
    "                              'V' : 'Exhaust Vacuum (V) in teh range 25.36-81.56 cm Hg',\n",
    "                              'RH' : 'Relative Humidity (RH) in the range 25.56% to 100.16%', \n",
    "                              'PE' : 'Net hourly electrical energy output (EP) 420.26-495.76 MW'})\n",
    "Description.head(5)"
   ]
  },
  {
   "cell_type": "markdown",
   "metadata": {
    "id": "QiUVZ2vgjk6D"
   },
   "source": [
    "## Spliting the dataset into training set and testing set"
   ]
  },
  {
   "cell_type": "code",
   "execution_count": 7,
   "metadata": {
    "id": "43dSd9wtj6EG"
   },
   "outputs": [],
   "source": [
    "#split the dataset into two parts: 80% for training and 20% for testing\n",
    "X_train, X_test, y_train, y_test = train_test_split(df.drop(columns= {'PE'}), df['PE'], test_size=0.2, random_state=42)"
   ]
  },
  {
   "cell_type": "markdown",
   "metadata": {
    "id": "66-QnnpikuKQ"
   },
   "source": [
    "## Preparing the cross validation"
   ]
  },
  {
   "cell_type": "code",
   "execution_count": 8,
   "metadata": {
    "id": "EH78JpA8k2rs"
   },
   "outputs": [],
   "source": [
    "#Prepare a cross validation model with 10 folds\n",
    "Cross_Validation = KFold(n_splits = 10, shuffle=True, random_state = 42)"
   ]
  },
  {
   "cell_type": "markdown",
   "metadata": {
    "id": "fWaeseQfmu3J"
   },
   "source": [
    "# Applying Linear Regression"
   ]
  },
  {
   "cell_type": "code",
   "execution_count": 9,
   "metadata": {
    "colab": {
     "base_uri": "https://localhost:8080/"
    },
    "id": "O8v3zsmQm566",
    "outputId": "fcd76e8e-ddf0-4a41-e1ea-4625dc698009"
   },
   "outputs": [
    {
     "name": "stdout",
     "output_type": "stream",
     "text": [
      "the performance scores of the linear regression:\n",
      "[0.92250325 0.9220288  0.92586958 0.93063517 0.93572724 0.92870631\n",
      " 0.92431972 0.93523375 0.92210924 0.93421659]\n",
      "Linear Regression Results: \n",
      "Implementation time = 0.06470149999999997\n",
      "Fitting time =  0.06460709999999992\n",
      "Performance =  0.928134965279164\n"
     ]
    }
   ],
   "source": [
    "LR_implementation_start_time = time.perf_counter()    #start the implementation time counter\n",
    "LR_Model = LinearRegression()  #prepare the linear regression model\n",
    "\n",
    "LR_fitting_start_time = time.perf_counter()  #start the fitting time counter\n",
    "\n",
    "#fit the training set into the linear regression model & evaluate the performance using cross validation scores\n",
    "LR_performance_scores = cross_val_score(LR_Model, X_train, y_train, cv=Cross_Validation) \n",
    "\n",
    "LR_fitting_end_time = time.perf_counter() #stop the fitting time counter\n",
    "\n",
    "LR_implementation_end_time = time.perf_counter() #stop the implemntation time counter\n",
    "\n",
    "print('the performance scores of the linear regression:')\n",
    "print(LR_performance_scores)\n",
    "\n",
    "#get the average of the scores\n",
    "LR_average_performance = LR_performance_scores.mean()\n",
    "\n",
    "#get the implmentation time \n",
    "LR_implementation_time = LR_implementation_end_time - LR_implementation_start_time\n",
    "\n",
    "#get the fitting time\n",
    "LR_fitting_time = LR_fitting_end_time - LR_fitting_start_time\n",
    "\n",
    "print('Linear Regression Results: ')\n",
    "print('Implementation time =', LR_implementation_time)\n",
    "print('Fitting time = ', LR_fitting_time)\n",
    "print('Performance = ', LR_average_performance)"
   ]
  },
  {
   "cell_type": "markdown",
   "metadata": {
    "id": "6UVpJvd5q5tI"
   },
   "source": [
    "# Applying Random Forest Regression"
   ]
  },
  {
   "cell_type": "markdown",
   "metadata": {
    "id": "ZIvO5RBXwpxY"
   },
   "source": [
    "## Choosing the suitable hyperparameters "
   ]
  },
  {
   "cell_type": "code",
   "execution_count": 10,
   "metadata": {
    "id": "BXHfCuLrtubR"
   },
   "outputs": [],
   "source": [
    "RF_implementation_start_time = time.perf_counter()    #start the implementation time counter"
   ]
  },
  {
   "cell_type": "markdown",
   "metadata": {
    "id": "cp6sGjriwAfU"
   },
   "source": [
    "### **1- n-estimators:** number of trees in the forest"
   ]
  },
  {
   "cell_type": "code",
   "execution_count": 11,
   "metadata": {
    "colab": {
     "base_uri": "https://localhost:8080/"
    },
    "id": "13yDXXOCw9AS",
    "outputId": "b51aef71-3504-499f-a7c5-1f0641772177"
   },
   "outputs": [
    {
     "name": "stdout",
     "output_type": "stream",
     "text": [
      "the fitting time of different N_estimators:\n",
      "[0.26530500000000057, 0.41801270000000024, 0.6146585, 0.7918707999999999, 0.9502633999999999, 1.0815310999999994, 1.3198279, 1.4806512000000005, 1.6227859999999996, 1.8250976000000012, 1.9902136000000006, 2.2678474999999985, 2.3644035999999993, 2.4893513000000027, 2.6501884999999987, 2.8577007000000023, 3.023241999999996, 3.2135590000000036, 3.357434099999999]\n",
      "the performance scores of different N_estimators:\n",
      "[0.9155157182086532, 0.9391076170626886, 0.9481484860753813, 0.9492965359661365, 0.952020689236587, 0.9535350353083503, 0.9536731819930153, 0.9549909732602819, 0.955710762567733, 0.9557809494867723, 0.9572406263068034, 0.9562954237351275, 0.9564934995486418, 0.9573883323805816, 0.9576554209778626, 0.9578097586153831, 0.9575976856317434, 0.9581423468985291, 0.9580755364068269]\n"
     ]
    }
   ],
   "source": [
    "N_estimators = []\n",
    "N_estimators_fitting_time = []\n",
    "N_estimators_performance = []\n",
    "\n",
    "#try different values of N_estimators \n",
    "for i in range(1, 20):  \n",
    "  RF_i = RandomForestRegressor(n_estimators = i)\n",
    "  fitting_time_start_i = time.perf_counter()\n",
    "  RF_Scores_i = cross_val_score(RF_i, X_train, y_train, cv=Cross_Validation)\n",
    "  fitting_time_end_i = time.perf_counter()\n",
    "\n",
    "  fitting_time_i = fitting_time_end_i - fitting_time_start_i\n",
    "  performance_i = RF_Scores_i.mean()\n",
    "\n",
    "  N_estimators.append(i)\n",
    "  N_estimators_fitting_time.append(fitting_time_i)\n",
    "  N_estimators_performance.append(performance_i)\n",
    "\n",
    "print('the fitting time of different N_estimators:')\n",
    "print(N_estimators_fitting_time)\n",
    "\n",
    "print('the performance scores of different N_estimators:')\n",
    "print(N_estimators_performance)"
   ]
  },
  {
   "cell_type": "code",
   "execution_count": 12,
   "metadata": {
    "colab": {
     "base_uri": "https://localhost:8080/",
     "height": 296
    },
    "id": "QnGBmq39yr_k",
    "outputId": "7b3165fa-9cdd-40d6-86c4-c75d84ba5050"
   },
   "outputs": [
    {
     "data": {
      "image/png": "[encoded data removed]",
      "text/plain": [
       "<Figure size 432x288 with 1 Axes>"
      ]
     },
     "metadata": {
      "needs_background": "light"
     },
     "output_type": "display_data"
    }
   ],
   "source": [
    "plt.plot(N_estimators, N_estimators_fitting_time)\n",
    "plt.xlabel('N_estimators') \n",
    "plt.ylabel('N_estimators_fitting_time') \n",
    "plt.title('N_estimators vs. N_estimators_fitting_time')  \n",
    "plt.show()"
   ]
  },
  {
   "cell_type": "code",
   "execution_count": 13,
   "metadata": {
    "colab": {
     "base_uri": "https://localhost:8080/",
     "height": 296
    },
    "id": "v4P9w_nSzFLd",
    "outputId": "fb02801d-b542-4604-fbbc-4bc0e8c88016"
   },
   "outputs": [
    {
     "data": {
      "image/png": "[encoded data removed]",
      "text/plain": [
       "<Figure size 432x288 with 1 Axes>"
      ]
     },
     "metadata": {
      "needs_background": "light"
     },
     "output_type": "display_data"
    }
   ],
   "source": [
    "plt.plot(N_estimators, N_estimators_performance)\n",
    "plt.xlabel('N_estimators') \n",
    "plt.ylabel('N_estimators_performance') \n",
    "plt.title('N_estimators vs. N_estimators_performance')  \n",
    "plt.show()"
   ]
  },
  {
   "cell_type": "markdown",
   "metadata": {
    "id": "kRsK3CECzeek"
   },
   "source": [
    "### **2- criterion:** The function to measure the quality of a split."
   ]
  },
  {
   "cell_type": "code",
   "execution_count": 14,
   "metadata": {
    "colab": {
     "base_uri": "https://localhost:8080/"
    },
    "id": "eq4IKijbzpm_",
    "outputId": "926963fc-bff7-4ea8-f506-acaf1decaafd"
   },
   "outputs": [
    {
     "name": "stdout",
     "output_type": "stream",
     "text": [
      "Random Forest regression with mae criterion:\n",
      "Fitting time:  27.283622200000003\n",
      "Performance:  0.9537716228159686\n",
      "Random Forest regression with mse criterion:\n",
      "Fitting time:  1.3292043000000007\n",
      "Performance:  0.9544909669500921\n"
     ]
    }
   ],
   "source": [
    "RF_mae = RandomForestRegressor(n_estimators=8, criterion='mae')\n",
    "\n",
    "RF_mae_fitting_time_start = time.perf_counter()\n",
    "RF_mae_scores = cross_val_score(RF_mae, X_train, y_train, cv=Cross_Validation)\n",
    "RF_mae_fitting_time_end = time.perf_counter()\n",
    "print('Random Forest regression with mae criterion:')\n",
    "print('Fitting time: ', RF_mae_fitting_time_end - RF_mae_fitting_time_start)\n",
    "print('Performance: ', RF_mae_scores.mean())\n",
    "\n",
    "RF_mse = RandomForestRegressor(n_estimators=8, criterion='mse')\n",
    "\n",
    "RF_mse_fitting_time_start = time.perf_counter()\n",
    "RF_mse_scores = cross_val_score(RF_mse, X_train, y_train, cv=Cross_Validation)\n",
    "RF_mse_fitting_time_end = time.perf_counter()\n",
    "print('Random Forest regression with mse criterion:')\n",
    "print('Fitting time: ',RF_mse_fitting_time_end - RF_mse_fitting_time_start)\n",
    "print('Performance: ', RF_mse_scores.mean())"
   ]
  },
  {
   "cell_type": "markdown",
   "metadata": {
    "id": "hGq6dpqV2Dni"
   },
   "source": [
    "### **3- max_features:** The number of features to consider when looking for the best split"
   ]
  },
  {
   "cell_type": "code",
   "execution_count": 15,
   "metadata": {
    "colab": {
     "base_uri": "https://localhost:8080/"
    },
    "id": "V-pnIjRJ2Qy6",
    "outputId": "c6e9ac47-dba1-465e-f06d-4bd0539a4ab0"
   },
   "outputs": [
    {
     "name": "stdout",
     "output_type": "stream",
     "text": [
      "Random Forest regression with max_features = n:\n",
      "Fitting time:  1.317477199999999\n",
      "Performance:  0.9542193770479453\n",
      "Random Forest regression with max_features = sqrt(n):\n",
      "Fitting time:  0.8319592999999941\n",
      "Performance:  0.9565688657942127\n",
      "Random Forest regression with max_features = log2(n):\n",
      "Fitting time:  0.8274352000000107\n",
      "Performance:  0.9561693285896832\n"
     ]
    }
   ],
   "source": [
    "RF_auto = RandomForestRegressor(n_estimators=8, criterion='mse', max_features=\"auto\")\n",
    "RF_auto_fitting_time_start = time.perf_counter()\n",
    "RF_auto_scores = cross_val_score(RF_auto, X_train, y_train, cv=Cross_Validation)\n",
    "RF_auto_fitting_time_end = time.perf_counter()\n",
    "print('Random Forest regression with max_features = n:')\n",
    "print('Fitting time: ', RF_auto_fitting_time_end - RF_auto_fitting_time_start)\n",
    "print('Performance: ', RF_auto_scores.mean())\n",
    "\n",
    "RF_sqrt = RandomForestRegressor(n_estimators=8, criterion='mse', max_features=\"sqrt\")\n",
    "RF_sqrt_fitting_time_start = time.perf_counter()\n",
    "RF_sqrt_scores = cross_val_score(RF_sqrt, X_train, y_train, cv=Cross_Validation)\n",
    "RF_sqrt_fitting_time_end = time.perf_counter()\n",
    "print('Random Forest regression with max_features = sqrt(n):')\n",
    "print('Fitting time: ', RF_sqrt_fitting_time_end - RF_sqrt_fitting_time_start)\n",
    "print('Performance: ', RF_sqrt_scores.mean())\n",
    "\n",
    "RF_log2 = RandomForestRegressor(n_estimators=8, criterion='mse', max_features=\"log2\")\n",
    "RF_log2_fitting_time_start = time.perf_counter()\n",
    "RF_log2_scores = cross_val_score(RF_log2, X_train, y_train, cv=Cross_Validation)\n",
    "RF_log2_fitting_time_end = time.perf_counter()\n",
    "print('Random Forest regression with max_features = log2(n):')\n",
    "print('Fitting time: ', RF_log2_fitting_time_end - RF_log2_fitting_time_start)\n",
    "print('Performance: ', RF_log2_scores.mean())"
   ]
  },
  {
   "cell_type": "markdown",
   "metadata": {
    "id": "5VIk9Hkb3jqU"
   },
   "source": [
    "## Getting the final model"
   ]
  },
  {
   "cell_type": "code",
   "execution_count": 16,
   "metadata": {
    "colab": {
     "base_uri": "https://localhost:8080/"
    },
    "id": "roNUkIVg3xh-",
    "outputId": "eabc219b-0901-45ae-8911-fa429cd9e74e"
   },
   "outputs": [
    {
     "name": "stdout",
     "output_type": "stream",
     "text": [
      "the performance scores of the random forest regression:\n",
      "[0.9503349  0.95259939 0.95319808 0.94965892 0.96445926 0.96036732\n",
      " 0.94958889 0.9601694  0.95423202 0.96665879]\n",
      "Random Forest Regression Results: \n",
      "Implementation time = 67.46766729999999\n",
      "Fitting time =  0.8408417999999926\n",
      "Performance =  0.9561266976694925\n"
     ]
    }
   ],
   "source": [
    "RF_Model = RandomForestRegressor(n_estimators=8, criterion='mse', max_features=\"sqrt\")\n",
    "\n",
    "RF_fitting_start_time = time.perf_counter()  #start the fitting time counter\n",
    "#fit the training set into the random fores regression model & evaluate the performance using cross validation scores\n",
    "RF_performance_scores = cross_val_score(RF_Model, X_train, y_train, cv=Cross_Validation) \n",
    "\n",
    "RF_fitting_end_time = time.perf_counter() #stop the fitting time counter\n",
    "\n",
    "RF_implementation_end_time = time.perf_counter() #stop the implemntation time counter\n",
    "\n",
    "print('the performance scores of the random forest regression:')\n",
    "print(RF_performance_scores)\n",
    "\n",
    "#get the average of the scores\n",
    "RF_average_performance = RF_performance_scores.mean()\n",
    "\n",
    "#get the implmentation time \n",
    "RF_implementation_time = RF_implementation_end_time - RF_implementation_start_time\n",
    "\n",
    "#get the fitting time\n",
    "RF_fitting_time = RF_fitting_end_time - RF_fitting_start_time\n",
    "\n",
    "print('Random Forest Regression Results: ')\n",
    "print('Implementation time =', RF_implementation_time)\n",
    "print('Fitting time = ', RF_fitting_time)\n",
    "print('Performance = ', RF_average_performance)"
   ]
  },
  {
   "cell_type": "markdown",
   "metadata": {
    "id": "BWCj7fWG44Ld"
   },
   "source": [
    "# Applying K-Nearest Neighbors Regression"
   ]
  },
  {
   "cell_type": "markdown",
   "metadata": {
    "id": "RTL5Usx65JcK"
   },
   "source": [
    "## Choosing the suitable hyperparameters "
   ]
  },
  {
   "cell_type": "code",
   "execution_count": 17,
   "metadata": {
    "id": "2PIs96TI5Cof"
   },
   "outputs": [],
   "source": [
    "KNN_implementation_start_time = time.perf_counter()    #start the implementation time counter"
   ]
  },
  {
   "cell_type": "markdown",
   "metadata": {
    "id": "C-ZvLKVI5nY5"
   },
   "source": [
    "### 1- **n_neighbors** : Number of neighbors to use by default for kneighbors queries"
   ]
  },
  {
   "cell_type": "code",
   "execution_count": 18,
   "metadata": {
    "colab": {
     "base_uri": "https://localhost:8080/"
    },
    "id": "OnWCyF4E9NkL",
    "outputId": "b603cc15-9f77-48ad-d96c-99580cad4f2d"
   },
   "outputs": [
    {
     "name": "stdout",
     "output_type": "stream",
     "text": [
      "6888\n"
     ]
    }
   ],
   "source": [
    "#getting the maximum number of neighbors that could be used\n",
    "max_possible_k = math.floor(0.9 * len(X_train))\n",
    "print(max_possible_k)"
   ]
  },
  {
   "cell_type": "markdown",
   "metadata": {
    "id": "9KUtIWi79J1h"
   },
   "source": [
    "As it is very hard to compute the results of the regression models by changing the k from 1 till max_possible_k, we can use for loop with large step. "
   ]
  },
  {
   "cell_type": "code",
   "execution_count": 19,
   "metadata": {
    "colab": {
     "base_uri": "https://localhost:8080/"
    },
    "id": "TiOxdXJc6MTu",
    "outputId": "70956269-fea5-4d41-c95d-84842881d88e"
   },
   "outputs": [
    {
     "name": "stdout",
     "output_type": "stream",
     "text": [
      "the fitting time of different N_neighbors:\n",
      "[0.10519610000000057, 0.9629205000000098, 1.7464946999999995, 2.485200600000013, 3.1973026000000004, 3.8830784000000023, 3.685422799999998, 4.041453799999999, 4.4623201999999935, 5.256336300000001, 5.818050299999996]\n",
      "the performance scores of different N_neighbors:\n",
      "[0.9229696140091377, 0.8721826182237425, 0.8374616900525407, 0.8068745834428304, 0.7686750259873525, 0.7070950822373152, 0.6149726374005343, 0.48851058087700194, 0.3324959899657338, 0.16502328607129568, 0.0010884900123979801]\n"
     ]
    }
   ],
   "source": [
    "N_neighbors = []\n",
    "N_neighbors_fitting_time = []\n",
    "N_neighbors_performance = []\n",
    "\n",
    "#try different values of N_neighbors\n",
    "mx = max_possible_k\n",
    "step = math.floor(mx/10) \n",
    "for i in range(1, mx, step):  \n",
    "  KNN_i = neighbors.KNeighborsRegressor(n_neighbors = i)\n",
    "  fitting_time_start_i = time.perf_counter()\n",
    "  KNN_Scores_i = cross_val_score(KNN_i, X_train, y_train, cv=Cross_Validation)\n",
    "  fitting_time_end_i = time.perf_counter()\n",
    "\n",
    "  fitting_time_i = fitting_time_end_i - fitting_time_start_i\n",
    "  performance_i = KNN_Scores_i.mean()\n",
    "\n",
    "  N_neighbors.append(i)\n",
    "  N_neighbors_fitting_time.append(fitting_time_i)\n",
    "  N_neighbors_performance.append(performance_i)\n",
    "\n",
    "print('the fitting time of different N_neighbors:')\n",
    "print(N_neighbors_fitting_time)\n",
    "\n",
    "print('the performance scores of different N_neighbors:')\n",
    "print(N_neighbors_performance)"
   ]
  },
  {
   "cell_type": "code",
   "execution_count": 20,
   "metadata": {
    "colab": {
     "base_uri": "https://localhost:8080/",
     "height": 296
    },
    "id": "EvRP8Zpc7gdT",
    "outputId": "3d87b380-cb29-4b7d-ae25-ad6abab28e00"
   },
   "outputs": [
    {
     "data": {
      "image/png": "[encoded data removed]",
      "text/plain": [
       "<Figure size 432x288 with 1 Axes>"
      ]
     },
     "metadata": {
      "needs_background": "light"
     },
     "output_type": "display_data"
    }
   ],
   "source": [
    "plt.plot(N_neighbors, N_neighbors_fitting_time)\n",
    "plt.xlabel('N_neighbors') \n",
    "plt.ylabel('N_neighbors_fitting_time') \n",
    "plt.title('N_neighbors vs. N_neighbors_fitting_time')  \n",
    "plt.show()"
   ]
  },
  {
   "cell_type": "code",
   "execution_count": 21,
   "metadata": {
    "colab": {
     "base_uri": "https://localhost:8080/",
     "height": 296
    },
    "id": "VP7n6IU47590",
    "outputId": "4aef1013-6d7a-49fa-eabe-911748ecfcbd"
   },
   "outputs": [
    {
     "data": {
      "image/png": "[encoded data removed]",
      "text/plain": [
       "<Figure size 432x288 with 1 Axes>"
      ]
     },
     "metadata": {
      "needs_background": "light"
     },
     "output_type": "display_data"
    }
   ],
   "source": [
    "plt.plot(N_neighbors, N_neighbors_performance)\n",
    "plt.xlabel('N_neighbors') \n",
    "plt.ylabel('N_neighbors_performance') \n",
    "plt.title('N_neighbors vs. N_neighbors_performance')  \n",
    "plt.show()"
   ]
  },
  {
   "cell_type": "markdown",
   "metadata": {
    "id": "Uj1qasIh87qK"
   },
   "source": [
    "we can notice that the performance decreases when the k increases. So we can repeat the same loop by taking the first part and decreasing the step to have better results."
   ]
  },
  {
   "cell_type": "code",
   "execution_count": 22,
   "metadata": {
    "colab": {
     "base_uri": "https://localhost:8080/"
    },
    "id": "EFJ_T4J3_awk",
    "outputId": "9b954d36-9445-4287-9965-685218b72621"
   },
   "outputs": [
    {
     "name": "stdout",
     "output_type": "stream",
     "text": [
      "the fitting time of different N_neighbors:\n",
      "[0.1160416999999967, 0.23851430000000562, 0.3410180000000054, 0.4442619999999948, 0.5393363000000022, 0.6314172999999954, 0.7371029000000107, 0.7843549999999908, 0.8812089000000043, 0.9590223000000009, 1.0473466999999914]\n",
      "the performance scores of different N_neighbors:\n",
      "[0.9229696140091377, 0.9275905750944343, 0.9182236467727549, 0.9106368335587876, 0.9040092614840731, 0.8977034683156326, 0.8920362238940678, 0.8867869347908736, 0.8818650361910638, 0.8771289561977744, 0.872672626714236]\n"
     ]
    }
   ],
   "source": [
    "N_neighbors = []\n",
    "N_neighbors_fitting_time = []\n",
    "N_neighbors_performance = []\n",
    "\n",
    "#try different values of N_neighbors\n",
    "mx = math.floor(max_possible_k/10)\n",
    "step = math.floor(mx/10) \n",
    "for i in range(1, mx, step):  \n",
    "  KNN_i = neighbors.KNeighborsRegressor(n_neighbors = i)\n",
    "  fitting_time_start_i = time.perf_counter()\n",
    "  KNN_Scores_i = cross_val_score(KNN_i, X_train, y_train, cv=Cross_Validation)\n",
    "  fitting_time_end_i = time.perf_counter()\n",
    "\n",
    "  fitting_time_i = fitting_time_end_i - fitting_time_start_i\n",
    "  performance_i = KNN_Scores_i.mean()\n",
    "\n",
    "  N_neighbors.append(i)\n",
    "  N_neighbors_fitting_time.append(fitting_time_i)\n",
    "  N_neighbors_performance.append(performance_i)\n",
    "\n",
    "print('the fitting time of different N_neighbors:')\n",
    "print(N_neighbors_fitting_time)\n",
    "\n",
    "print('the performance scores of different N_neighbors:')\n",
    "print(N_neighbors_performance)"
   ]
  },
  {
   "cell_type": "code",
   "execution_count": 23,
   "metadata": {
    "colab": {
     "base_uri": "https://localhost:8080/",
     "height": 296
    },
    "id": "rmQ_POxp_oSt",
    "outputId": "a37f119a-e708-485b-eebe-cc251a86f2c5"
   },
   "outputs": [
    {
     "data": {
      "image/png": "[encoded data removed]",
      "text/plain": [
       "<Figure size 432x288 with 1 Axes>"
      ]
     },
     "metadata": {
      "needs_background": "light"
     },
     "output_type": "display_data"
    }
   ],
   "source": [
    "plt.plot(N_neighbors, N_neighbors_fitting_time)\n",
    "plt.xlabel('N_neighbors') \n",
    "plt.ylabel('N_neighbors_fitting_time') \n",
    "plt.title('N_neighbors vs. N_neighbors_fitting_time')  \n",
    "plt.show()"
   ]
  },
  {
   "cell_type": "code",
   "execution_count": 24,
   "metadata": {
    "colab": {
     "base_uri": "https://localhost:8080/",
     "height": 296
    },
    "id": "8iCYFOi__q1y",
    "outputId": "84cb6995-fcce-4e74-da78-a3c4f98c7175"
   },
   "outputs": [
    {
     "data": {
      "image/png": "[encoded data removed]",
      "text/plain": [
       "<Figure size 432x288 with 1 Axes>"
      ]
     },
     "metadata": {
      "needs_background": "light"
     },
     "output_type": "display_data"
    }
   ],
   "source": [
    "plt.plot(N_neighbors, N_neighbors_performance)\n",
    "plt.xlabel('N_neighbors') \n",
    "plt.ylabel('N_neighbors_performance') \n",
    "plt.title('N_neighbors vs. N_neighbors_performance')  \n",
    "plt.show()"
   ]
  },
  {
   "cell_type": "code",
   "execution_count": 25,
   "metadata": {
    "colab": {
     "base_uri": "https://localhost:8080/"
    },
    "id": "TVLqr66H8DHA",
    "outputId": "f2a62c21-93eb-493d-d7e7-d1d8f23f5463"
   },
   "outputs": [
    {
     "name": "stdout",
     "output_type": "stream",
     "text": [
      "Best K: 69\n",
      "Best K performance: 0.9275905750944343\n",
      "Best K fitting time: 0.23851430000000562\n"
     ]
    }
   ],
   "source": [
    "#getting the information of best performance:\n",
    "KNN_best_k_performance = max(N_neighbors_performance)\n",
    "KNN_best_k_index = N_neighbors_performance.index(KNN_best_k_performance)\n",
    "KNN_best_k = N_neighbors[KNN_best_k_index]\n",
    "KNN_best_k_fitting_time = N_neighbors_fitting_time[KNN_best_k_index]\n",
    "\n",
    "print('Best K:', KNN_best_k)\n",
    "print('Best K performance:', KNN_best_k_performance)\n",
    "print('Best K fitting time:', KNN_best_k_fitting_time)"
   ]
  },
  {
   "cell_type": "markdown",
   "metadata": {
    "id": "mclVwyfABkFj"
   },
   "source": [
    "### **2- weights:** weight function used in prediction"
   ]
  },
  {
   "cell_type": "code",
   "execution_count": 26,
   "metadata": {
    "colab": {
     "base_uri": "https://localhost:8080/"
    },
    "id": "DrxHt4UXByO0",
    "outputId": "e65eea2a-ba15-45e7-83d0-26268bfcec5d"
   },
   "outputs": [
    {
     "name": "stdout",
     "output_type": "stream",
     "text": [
      "K-Nearest Neighbors regression with uniform weight:\n",
      "Fitting time:  0.24329290000000015\n",
      "Performance:  0.9275905750944343\n",
      "K-Nearest Neighbors regression with distance weight:\n",
      "Fitting time:  0.24806139999999743\n",
      "Performance:  0.9359595190357208\n"
     ]
    }
   ],
   "source": [
    "KNN_uniform = neighbors.KNeighborsRegressor(n_neighbors = KNN_best_k, weights='uniform')\n",
    "\n",
    "KNN_uniform_fitting_time_start = time.perf_counter()\n",
    "KNN_uniform_scores = cross_val_score(KNN_uniform, X_train, y_train, cv=Cross_Validation)\n",
    "KNN_uniform_fitting_time_end = time.perf_counter()\n",
    "print('K-Nearest Neighbors regression with uniform weight:')\n",
    "print('Fitting time: ', KNN_uniform_fitting_time_end - KNN_uniform_fitting_time_start)\n",
    "print('Performance: ', KNN_uniform_scores.mean())\n",
    "\n",
    "KNN_distance = neighbors.KNeighborsRegressor(n_neighbors = KNN_best_k, weights='distance')\n",
    "\n",
    "KNN_distance_fitting_time_start = time.perf_counter()\n",
    "KNN_distance_scores = cross_val_score(KNN_distance, X_train, y_train, cv=Cross_Validation)\n",
    "KNN_distance_fitting_time_end = time.perf_counter()\n",
    "print('K-Nearest Neighbors regression with distance weight:')\n",
    "print('Fitting time: ', KNN_distance_fitting_time_end - KNN_distance_fitting_time_start)\n",
    "print('Performance: ', KNN_distance_scores.mean())"
   ]
  },
  {
   "cell_type": "markdown",
   "metadata": {
    "id": "qyNLyKvoDgqi"
   },
   "source": [
    "## Getting the final model"
   ]
  },
  {
   "cell_type": "code",
   "execution_count": 27,
   "metadata": {
    "colab": {
     "base_uri": "https://localhost:8080/"
    },
    "id": "UBdBDUmKDk8I",
    "outputId": "f0628149-637b-43fd-c1ba-7427edbd6102"
   },
   "outputs": [
    {
     "name": "stdout",
     "output_type": "stream",
     "text": [
      "the performance scores of the random forest regression:\n",
      "[0.93131026 0.93079939 0.93688031 0.93082163 0.93931481 0.94109557\n",
      " 0.93115609 0.94038661 0.93071588 0.94711466]\n",
      "K-Nearest Neighbors Regression Results: \n",
      "Implementation time = 43.810478200000006\n",
      "Fitting time =  0.24882030000000555\n",
      "Performance =  0.9359595190357208\n"
     ]
    }
   ],
   "source": [
    "KNN_Model = neighbors.KNeighborsRegressor(n_neighbors = KNN_best_k, weights='distance')\n",
    "\n",
    "KNN_fitting_start_time = time.perf_counter()  #start the fitting time counter\n",
    "#fit the training set into the K-Nearest Neighbors regression model & evaluate the performance using cross validation scores\n",
    "KNN_performance_scores = cross_val_score(KNN_Model, X_train, y_train, cv=Cross_Validation) \n",
    "\n",
    "KNN_fitting_end_time = time.perf_counter() #stop the fitting time counter\n",
    "\n",
    "KNN_implementation_end_time = time.perf_counter() #stop the implemntation time counter\n",
    "\n",
    "print('the performance scores of the random forest regression:')\n",
    "print(KNN_performance_scores)\n",
    "\n",
    "#get the average of the scores\n",
    "KNN_average_performance = KNN_performance_scores.mean()\n",
    "\n",
    "#get the implmentation time \n",
    "KNN_implementation_time = KNN_implementation_end_time - KNN_implementation_start_time\n",
    "\n",
    "#get the fitting time\n",
    "KNN_fitting_time = KNN_fitting_end_time - KNN_fitting_start_time\n",
    "\n",
    "print('K-Nearest Neighbors Regression Results: ')\n",
    "print('Implementation time =', KNN_implementation_time)\n",
    "print('Fitting time = ', KNN_fitting_time)\n",
    "print('Performance = ', KNN_average_performance)"
   ]
  },
  {
   "cell_type": "markdown",
   "metadata": {
    "id": "028tZfiBFYsD"
   },
   "source": [
    "# Comparision of models"
   ]
  },
  {
   "cell_type": "code",
   "execution_count": 28,
   "metadata": {
    "colab": {
     "base_uri": "https://localhost:8080/"
    },
    "id": "gT_r5fNUEUiK",
    "outputId": "3a20349a-ea9f-4e8e-b432-8aa1217caf97"
   },
   "outputs": [
    {
     "name": "stdout",
     "output_type": "stream",
     "text": [
      "╒══════════════════════════╤═══════════════════════╤════════════════╤═══════════════╕\n",
      "│ Model                    │   Implementation time │   Fitting time │   Performance │\n",
      "╞══════════════════════════╪═══════════════════════╪════════════════╪═══════════════╡\n",
      "│ Linear Regression        │             0.0647015 │      0.0646071 │      0.928135 │\n",
      "├──────────────────────────┼───────────────────────┼────────────────┼───────────────┤\n",
      "│ Random Forest Regression │            67.4677    │      0.840842  │      0.956127 │\n",
      "├──────────────────────────┼───────────────────────┼────────────────┼───────────────┤\n",
      "│ KNN Regression           │            43.8105    │      0.24882   │      0.93596  │\n",
      "╘══════════════════════════╧═══════════════════════╧════════════════╧═══════════════╛\n"
     ]
    }
   ],
   "source": [
    "results_table = [['Model', 'Implementation time', 'Fitting time', 'Performance'],\n",
    "                 ['Linear Regression', LR_implementation_time, LR_fitting_time, LR_average_performance],\n",
    "                 ['Random Forest Regression', RF_implementation_time, RF_fitting_time, RF_average_performance],\n",
    "                 ['KNN Regression', KNN_implementation_time, KNN_fitting_time, KNN_average_performance]]\n",
    "print(tabulate(results_table, headers='firstrow', tablefmt='fancy_grid'))\n"
   ]
  },
  {
   "cell_type": "markdown",
   "metadata": {
    "id": "8L1mrvigFezJ"
   },
   "source": [
    "# Testing"
   ]
  },
  {
   "cell_type": "markdown",
   "metadata": {
    "id": "sed8SRDYFsZy"
   },
   "source": [
    "## choose and test Linear regression"
   ]
  },
  {
   "cell_type": "code",
   "execution_count": 29,
   "metadata": {
    "colab": {
     "base_uri": "https://localhost:8080/"
    },
    "id": "peTeM8glFhJI",
    "outputId": "8b36585e-37e7-4657-db16-54b8170f3fa3"
   },
   "outputs": [
    {
     "name": "stdout",
     "output_type": "stream",
     "text": [
      "Linear Regression MSE:  20.273705999687447\n"
     ]
    }
   ],
   "source": [
    "LR_Model.fit(X_train, y_train)\n",
    "LR_y_pred = LR_Model.predict(X_test)\n",
    "print('Linear Regression MSE: ', metrics.mean_squared_error(y_test, LR_y_pred))"
   ]
  },
  {
   "cell_type": "markdown",
   "metadata": {
    "id": "tiDDpIsEGUTg"
   },
   "source": [
    "## choose and test random forest regression"
   ]
  },
  {
   "cell_type": "code",
   "execution_count": 30,
   "metadata": {
    "colab": {
     "base_uri": "https://localhost:8080/"
    },
    "id": "DWeYwigFGO_7",
    "outputId": "2d61279b-215e-46f7-eb71-eaf9f56a052a"
   },
   "outputs": [
    {
     "name": "stdout",
     "output_type": "stream",
     "text": [
      "Random Forest Regression MSE:  11.213581298164849\n"
     ]
    }
   ],
   "source": [
    "RF_Model.fit(X_train, y_train)\n",
    "RF_y_pred = RF_Model.predict(X_test)\n",
    "print('Random Forest Regression MSE: ', metrics.mean_squared_error(y_test, RF_y_pred))"
   ]
  },
  {
   "cell_type": "markdown",
   "metadata": {
    "id": "6Vq-OzQWGkz2"
   },
   "source": [
    "## choose and test K-Nearest Neighbors regression"
   ]
  },
  {
   "cell_type": "code",
   "execution_count": 31,
   "metadata": {
    "colab": {
     "base_uri": "https://localhost:8080/"
    },
    "id": "EB1BWxwbGqzm",
    "outputId": "1e929d3d-8eb1-4fd8-e69c-653ac36567db"
   },
   "outputs": [
    {
     "name": "stdout",
     "output_type": "stream",
     "text": [
      "Random Forest Regression MSE:  17.142891341908364\n"
     ]
    }
   ],
   "source": [
    "KNN_Model.fit(X_train, y_train)\n",
    "KNN_y_pred = KNN_Model.predict(X_test)\n",
    "print('Random Forest Regression MSE: ', metrics.mean_squared_error(y_test, KNN_y_pred))"
   ]
  },
  {
   "cell_type": "code",
   "execution_count": null,
   "metadata": {},
   "outputs": [],
   "source": []
  }
 ],
 "metadata": {
  "colab": {
   "collapsed_sections": [
    "QBLNvok9gQCW",
    "zVR2a0EXgkCI",
    "QiUVZ2vgjk6D",
    "66-QnnpikuKQ",
    "fWaeseQfmu3J",
    "6UVpJvd5q5tI",
    "ZIvO5RBXwpxY",
    "cp6sGjriwAfU",
    "hGq6dpqV2Dni",
    "5VIk9Hkb3jqU",
    "BWCj7fWG44Ld",
    "C-ZvLKVI5nY5",
    "mclVwyfABkFj"
   ],
   "name": "Khaled first dataset.ipynb",
   "provenance": []
  },
  "kernelspec": {
   "display_name": "Python 3",
   "language": "python",
   "name": "python3"
  },
  "language_info": {
   "codemirror_mode": {
    "name": "ipython",
    "version": 3
   },
   "file_extension": ".py",
   "mimetype": "text/x-python",
   "name": "python",
   "nbconvert_exporter": "python",
   "pygments_lexer": "ipython3",
   "version": "3.8.5"
  }
 },
 "nbformat": 4,
 "nbformat_minor": 1
}

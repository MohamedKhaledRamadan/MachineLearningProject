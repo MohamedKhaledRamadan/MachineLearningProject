{
 "cells": [
  {
   "cell_type": "markdown",
   "metadata": {
    "id": "_ImPL1wxe5tC"
   },
   "source": [
    "# Preparing the dataset"
   ]
  },
  {
   "cell_type": "markdown",
   "metadata": {
    "id": "F0iLj6AtfFia"
   },
   "source": [
    "## Importing the libraries"
   ]
  },
  {
   "cell_type": "code",
   "execution_count": 1,
   "metadata": {
    "id": "Sy5KVrdCeRMb"
   },
   "outputs": [],
   "source": [
    "#to read the dataframe\n",
    "import pandas as pd    \n",
    "\n",
    "#to plot\n",
    "import matplotlib.pyplot as plt\n",
    "\n",
    "#to measure the time\n",
    "import time\n",
    "\n",
    "#to call mathmatical functions\n",
    "import math\n",
    "\n",
    "#to draw tables\n",
    "from tabulate import tabulate\n",
    "\n",
    "#to split the dataset into training set and testing set\n",
    "from sklearn.model_selection import train_test_split\n",
    "\n",
    "#to run the k-cross validaton \n",
    "from sklearn.model_selection import cross_val_score\n",
    "from sklearn.model_selection import KFold\n",
    "\n",
    "#for linear regression\n",
    "from sklearn.linear_model import LinearRegression\n",
    "\n",
    "#for random forest regression\n",
    "from sklearn.ensemble import RandomForestRegressor\n",
    "\n",
    "#for knn regression\n",
    "from sklearn import neighbors\n",
    "\n",
    "#for evaluation \n",
    "from sklearn import metrics"
   ]
  },
  {
   "cell_type": "markdown",
   "metadata": {
    "id": "QBLNvok9gQCW"
   },
   "source": [
    "## Reading the dataset as a dataframe"
   ]
  },
  {
   "cell_type": "code",
   "execution_count": 2,
   "metadata": {
    "id": "Y7wa2EEdgV9h"
   },
   "outputs": [],
   "source": [
    "#reading the dataset in dataframe\n",
    "df = pd.read_fwf(\"yacht_hydrodynamics.data\")"
   ]
  },
  {
   "cell_type": "code",
   "execution_count": 3,
   "metadata": {
    "colab": {
     "base_uri": "https://localhost:8080/",
     "height": 196
    },
    "id": "LVR2pALBgciR",
    "outputId": "c0c45fb4-8efa-4e98-8a31-f8ba25fee3cf"
   },
   "outputs": [
    {
     "data": {
      "text/html": [
       "<div>\n",
       "<style scoped>\n",
       "    .dataframe tbody tr th:only-of-type {\n",
       "        vertical-align: middle;\n",
       "    }\n",
       "\n",
       "    .dataframe tbody tr th {\n",
       "        vertical-align: top;\n",
       "    }\n",
       "\n",
       "    .dataframe thead th {\n",
       "        text-align: right;\n",
       "    }\n",
       "</style>\n",
       "<table border=\"1\" class=\"dataframe\">\n",
       "  <thead>\n",
       "    <tr style=\"text-align: right;\">\n",
       "      <th></th>\n",
       "      <th>-2.3</th>\n",
       "      <th>0.568</th>\n",
       "      <th>4.78</th>\n",
       "      <th>3.99</th>\n",
       "      <th>3.17</th>\n",
       "      <th>0.125</th>\n",
       "      <th>0.11</th>\n",
       "    </tr>\n",
       "  </thead>\n",
       "  <tbody>\n",
       "    <tr>\n",
       "      <th>0</th>\n",
       "      <td>-2.3</td>\n",
       "      <td>0.568</td>\n",
       "      <td>4.78</td>\n",
       "      <td>3.99</td>\n",
       "      <td>3.17</td>\n",
       "      <td>0.150</td>\n",
       "      <td>0.27</td>\n",
       "    </tr>\n",
       "    <tr>\n",
       "      <th>1</th>\n",
       "      <td>-2.3</td>\n",
       "      <td>0.568</td>\n",
       "      <td>4.78</td>\n",
       "      <td>3.99</td>\n",
       "      <td>3.17</td>\n",
       "      <td>0.175</td>\n",
       "      <td>0.47</td>\n",
       "    </tr>\n",
       "    <tr>\n",
       "      <th>2</th>\n",
       "      <td>-2.3</td>\n",
       "      <td>0.568</td>\n",
       "      <td>4.78</td>\n",
       "      <td>3.99</td>\n",
       "      <td>3.17</td>\n",
       "      <td>0.200</td>\n",
       "      <td>0.78</td>\n",
       "    </tr>\n",
       "    <tr>\n",
       "      <th>3</th>\n",
       "      <td>-2.3</td>\n",
       "      <td>0.568</td>\n",
       "      <td>4.78</td>\n",
       "      <td>3.99</td>\n",
       "      <td>3.17</td>\n",
       "      <td>0.225</td>\n",
       "      <td>1.18</td>\n",
       "    </tr>\n",
       "    <tr>\n",
       "      <th>4</th>\n",
       "      <td>-2.3</td>\n",
       "      <td>0.568</td>\n",
       "      <td>4.78</td>\n",
       "      <td>3.99</td>\n",
       "      <td>3.17</td>\n",
       "      <td>0.250</td>\n",
       "      <td>1.82</td>\n",
       "    </tr>\n",
       "  </tbody>\n",
       "</table>\n",
       "</div>"
      ],
      "text/plain": [
       "   -2.3  0.568  4.78  3.99  3.17  0.125  0.11\n",
       "0  -2.3  0.568  4.78  3.99  3.17  0.150  0.27\n",
       "1  -2.3  0.568  4.78  3.99  3.17  0.175  0.47\n",
       "2  -2.3  0.568  4.78  3.99  3.17  0.200  0.78\n",
       "3  -2.3  0.568  4.78  3.99  3.17  0.225  1.18\n",
       "4  -2.3  0.568  4.78  3.99  3.17  0.250  1.82"
      ]
     },
     "execution_count": 3,
     "metadata": {},
     "output_type": "execute_result"
    }
   ],
   "source": [
    "df.head(5)"
   ]
  },
  {
   "cell_type": "markdown",
   "metadata": {
    "id": "zVR2a0EXgkCI"
   },
   "source": [
    "## Discovering the dataset "
   ]
  },
  {
   "cell_type": "code",
   "execution_count": 4,
   "metadata": {
    "colab": {
     "base_uri": "https://localhost:8080/"
    },
    "id": "Ekm9lTwQhw2z",
    "outputId": "efe570d5-1664-4215-966e-47ebe5f18ddf"
   },
   "outputs": [
    {
     "data": {
      "text/plain": [
       "-2.3     1\n",
       "0.568    1\n",
       "4.78     1\n",
       "3.99     1\n",
       "3.17     1\n",
       "0.125    1\n",
       "0.11     1\n",
       "dtype: int64"
      ]
     },
     "execution_count": 4,
     "metadata": {},
     "output_type": "execute_result"
    }
   ],
   "source": [
    "#show the number of null values in each column\n",
    "df.isnull().sum()"
   ]
  },
  {
   "cell_type": "code",
   "execution_count": 5,
   "metadata": {
    "colab": {
     "base_uri": "https://localhost:8080/"
    },
    "id": "Kp_k2drzXuIU",
    "outputId": "bf0bf2c9-d1d3-462d-8658-2d532f1624d8"
   },
   "outputs": [
    {
     "name": "stdout",
     "output_type": "stream",
     "text": [
      "     -2.3  0.568  4.78  3.99  3.17  0.125  0.11\n",
      "307   NaN    NaN   NaN   NaN   NaN    NaN   NaN\n"
     ]
    }
   ],
   "source": [
    "#remove the rows that contains null values\n",
    "#df = df.dropna()\n",
    "is_NaN = df.isnull()\n",
    "row_has_NaN = is_NaN.any(axis=1)\n",
    "rows_with_NaN = df[row_has_NaN]\n",
    "\n",
    "print(rows_with_NaN)"
   ]
  },
  {
   "cell_type": "markdown",
   "metadata": {
    "id": "xYmuV1rb__Ko"
   },
   "source": [
    "As the columns' names are numbers and the last row has no records, It could be expected that the dataset was shifted. So we need to fill the null row with the records of the first row."
   ]
  },
  {
   "cell_type": "code",
   "execution_count": 6,
   "metadata": {
    "colab": {
     "base_uri": "https://localhost:8080/",
     "height": 77
    },
    "id": "qM2VV8_jAWgt",
    "outputId": "962bfc2f-422e-400d-8ba9-d517cb549abe"
   },
   "outputs": [
    {
     "data": {
      "text/html": [
       "<div>\n",
       "<style scoped>\n",
       "    .dataframe tbody tr th:only-of-type {\n",
       "        vertical-align: middle;\n",
       "    }\n",
       "\n",
       "    .dataframe tbody tr th {\n",
       "        vertical-align: top;\n",
       "    }\n",
       "\n",
       "    .dataframe thead th {\n",
       "        text-align: right;\n",
       "    }\n",
       "</style>\n",
       "<table border=\"1\" class=\"dataframe\">\n",
       "  <thead>\n",
       "    <tr style=\"text-align: right;\">\n",
       "      <th></th>\n",
       "      <th>-2.3</th>\n",
       "      <th>0.568</th>\n",
       "      <th>4.78</th>\n",
       "      <th>3.99</th>\n",
       "      <th>3.17</th>\n",
       "      <th>0.125</th>\n",
       "      <th>0.11</th>\n",
       "    </tr>\n",
       "  </thead>\n",
       "  <tbody>\n",
       "    <tr>\n",
       "      <th>307</th>\n",
       "      <td>-2.3</td>\n",
       "      <td>0.568</td>\n",
       "      <td>4.78</td>\n",
       "      <td>3.99</td>\n",
       "      <td>3.17</td>\n",
       "      <td>0.125</td>\n",
       "      <td>0.11</td>\n",
       "    </tr>\n",
       "  </tbody>\n",
       "</table>\n",
       "</div>"
      ],
      "text/plain": [
       "     -2.3  0.568  4.78  3.99  3.17  0.125  0.11\n",
       "307  -2.3  0.568  4.78  3.99  3.17  0.125  0.11"
      ]
     },
     "execution_count": 6,
     "metadata": {},
     "output_type": "execute_result"
    }
   ],
   "source": [
    "#filling the last row\n",
    "record = df.columns.tolist()\n",
    "for i in range(len(df.columns)):\n",
    "  df.iloc[307,[i]] = float(record[i]) \n",
    "\n",
    "df.tail(1)"
   ]
  },
  {
   "cell_type": "code",
   "execution_count": 7,
   "metadata": {
    "colab": {
     "base_uri": "https://localhost:8080/",
     "height": 196
    },
    "id": "93S0HShiaKLu",
    "outputId": "eacfe42a-0a0b-42b0-99c2-6c42cf0b906c"
   },
   "outputs": [
    {
     "data": {
      "text/html": [
       "<div>\n",
       "<style scoped>\n",
       "    .dataframe tbody tr th:only-of-type {\n",
       "        vertical-align: middle;\n",
       "    }\n",
       "\n",
       "    .dataframe tbody tr th {\n",
       "        vertical-align: top;\n",
       "    }\n",
       "\n",
       "    .dataframe thead th {\n",
       "        text-align: right;\n",
       "    }\n",
       "</style>\n",
       "<table border=\"1\" class=\"dataframe\">\n",
       "  <thead>\n",
       "    <tr style=\"text-align: right;\">\n",
       "      <th></th>\n",
       "      <th>X1</th>\n",
       "      <th>X2</th>\n",
       "      <th>X3</th>\n",
       "      <th>X4</th>\n",
       "      <th>X5</th>\n",
       "      <th>X6</th>\n",
       "      <th>Y</th>\n",
       "    </tr>\n",
       "  </thead>\n",
       "  <tbody>\n",
       "    <tr>\n",
       "      <th>0</th>\n",
       "      <td>-2.3</td>\n",
       "      <td>0.568</td>\n",
       "      <td>4.78</td>\n",
       "      <td>3.99</td>\n",
       "      <td>3.17</td>\n",
       "      <td>0.150</td>\n",
       "      <td>0.27</td>\n",
       "    </tr>\n",
       "    <tr>\n",
       "      <th>1</th>\n",
       "      <td>-2.3</td>\n",
       "      <td>0.568</td>\n",
       "      <td>4.78</td>\n",
       "      <td>3.99</td>\n",
       "      <td>3.17</td>\n",
       "      <td>0.175</td>\n",
       "      <td>0.47</td>\n",
       "    </tr>\n",
       "    <tr>\n",
       "      <th>2</th>\n",
       "      <td>-2.3</td>\n",
       "      <td>0.568</td>\n",
       "      <td>4.78</td>\n",
       "      <td>3.99</td>\n",
       "      <td>3.17</td>\n",
       "      <td>0.200</td>\n",
       "      <td>0.78</td>\n",
       "    </tr>\n",
       "    <tr>\n",
       "      <th>3</th>\n",
       "      <td>-2.3</td>\n",
       "      <td>0.568</td>\n",
       "      <td>4.78</td>\n",
       "      <td>3.99</td>\n",
       "      <td>3.17</td>\n",
       "      <td>0.225</td>\n",
       "      <td>1.18</td>\n",
       "    </tr>\n",
       "    <tr>\n",
       "      <th>4</th>\n",
       "      <td>-2.3</td>\n",
       "      <td>0.568</td>\n",
       "      <td>4.78</td>\n",
       "      <td>3.99</td>\n",
       "      <td>3.17</td>\n",
       "      <td>0.250</td>\n",
       "      <td>1.82</td>\n",
       "    </tr>\n",
       "  </tbody>\n",
       "</table>\n",
       "</div>"
      ],
      "text/plain": [
       "    X1     X2    X3    X4    X5     X6     Y\n",
       "0 -2.3  0.568  4.78  3.99  3.17  0.150  0.27\n",
       "1 -2.3  0.568  4.78  3.99  3.17  0.175  0.47\n",
       "2 -2.3  0.568  4.78  3.99  3.17  0.200  0.78\n",
       "3 -2.3  0.568  4.78  3.99  3.17  0.225  1.18\n",
       "4 -2.3  0.568  4.78  3.99  3.17  0.250  1.82"
      ]
     },
     "execution_count": 7,
     "metadata": {},
     "output_type": "execute_result"
    }
   ],
   "source": [
    "#renaming the dataframe columns\n",
    "df.columns = ['X1', 'X2', 'X3', 'X4', 'X5', 'X6', 'Y']\n",
    "df.head(5) "
   ]
  },
  {
   "cell_type": "code",
   "execution_count": 8,
   "metadata": {
    "colab": {
     "base_uri": "https://localhost:8080/"
    },
    "id": "xEUNwZwMEh3A",
    "outputId": "3c0fc367-2010-4136-b088-80a4f80dd0b9"
   },
   "outputs": [
    {
     "data": {
      "text/plain": [
       "X1    0\n",
       "X2    0\n",
       "X3    0\n",
       "X4    0\n",
       "X5    0\n",
       "X6    0\n",
       "Y     0\n",
       "dtype: int64"
      ]
     },
     "execution_count": 8,
     "metadata": {},
     "output_type": "execute_result"
    }
   ],
   "source": [
    "#check the number of null values in each column again\n",
    "df.isnull().sum()"
   ]
  },
  {
   "cell_type": "code",
   "execution_count": 9,
   "metadata": {
    "colab": {
     "base_uri": "https://localhost:8080/"
    },
    "id": "gZzUN1ovggMY",
    "outputId": "00a36a42-3dee-4d4e-9e24-0e4756d88359"
   },
   "outputs": [
    {
     "name": "stdout",
     "output_type": "stream",
     "text": [
      "dataset size:  2156\n",
      "number of records:  308\n",
      "number of features:  6\n"
     ]
    }
   ],
   "source": [
    "#show the number of cells in the dataframe\n",
    "print(\"dataset size: \", df.size)\n",
    "\n",
    "#show the number of records (rows) in the dataframe\n",
    "print(\"number of records: \", len(df))\n",
    "\n",
    "#show the number of features (coulmns) in the dataframe (exculde the response variable)\n",
    "print(\"number of features: \", len(df.columns)-1) "
   ]
  },
  {
   "cell_type": "code",
   "execution_count": 10,
   "metadata": {
    "colab": {
     "base_uri": "https://localhost:8080/",
     "height": 230
    },
    "id": "H-ahItbNiOJ4",
    "outputId": "f3ee3550-3422-43d9-ee64-ef2f5cd3a330"
   },
   "outputs": [
    {
     "data": {
      "text/html": [
       "<div>\n",
       "<style scoped>\n",
       "    .dataframe tbody tr th:only-of-type {\n",
       "        vertical-align: middle;\n",
       "    }\n",
       "\n",
       "    .dataframe tbody tr th {\n",
       "        vertical-align: top;\n",
       "    }\n",
       "\n",
       "    .dataframe thead th {\n",
       "        text-align: right;\n",
       "    }\n",
       "</style>\n",
       "<table border=\"1\" class=\"dataframe\">\n",
       "  <thead>\n",
       "    <tr style=\"text-align: right;\">\n",
       "      <th></th>\n",
       "      <th>Longitudinal position of the center of buoyancy</th>\n",
       "      <th>Prismatic coefficient</th>\n",
       "      <th>Length-displacement ratio</th>\n",
       "      <th>Beam-draught ratio</th>\n",
       "      <th>Length-beam ratio</th>\n",
       "      <th>Froude number</th>\n",
       "      <th>Residuary resistance per unit weight of displacement</th>\n",
       "    </tr>\n",
       "  </thead>\n",
       "  <tbody>\n",
       "    <tr>\n",
       "      <th>0</th>\n",
       "      <td>-2.3</td>\n",
       "      <td>0.568</td>\n",
       "      <td>4.78</td>\n",
       "      <td>3.99</td>\n",
       "      <td>3.17</td>\n",
       "      <td>0.150</td>\n",
       "      <td>0.27</td>\n",
       "    </tr>\n",
       "    <tr>\n",
       "      <th>1</th>\n",
       "      <td>-2.3</td>\n",
       "      <td>0.568</td>\n",
       "      <td>4.78</td>\n",
       "      <td>3.99</td>\n",
       "      <td>3.17</td>\n",
       "      <td>0.175</td>\n",
       "      <td>0.47</td>\n",
       "    </tr>\n",
       "    <tr>\n",
       "      <th>2</th>\n",
       "      <td>-2.3</td>\n",
       "      <td>0.568</td>\n",
       "      <td>4.78</td>\n",
       "      <td>3.99</td>\n",
       "      <td>3.17</td>\n",
       "      <td>0.200</td>\n",
       "      <td>0.78</td>\n",
       "    </tr>\n",
       "    <tr>\n",
       "      <th>3</th>\n",
       "      <td>-2.3</td>\n",
       "      <td>0.568</td>\n",
       "      <td>4.78</td>\n",
       "      <td>3.99</td>\n",
       "      <td>3.17</td>\n",
       "      <td>0.225</td>\n",
       "      <td>1.18</td>\n",
       "    </tr>\n",
       "    <tr>\n",
       "      <th>4</th>\n",
       "      <td>-2.3</td>\n",
       "      <td>0.568</td>\n",
       "      <td>4.78</td>\n",
       "      <td>3.99</td>\n",
       "      <td>3.17</td>\n",
       "      <td>0.250</td>\n",
       "      <td>1.82</td>\n",
       "    </tr>\n",
       "  </tbody>\n",
       "</table>\n",
       "</div>"
      ],
      "text/plain": [
       "   Longitudinal position of the center of buoyancy  Prismatic coefficient  \\\n",
       "0                                             -2.3                  0.568   \n",
       "1                                             -2.3                  0.568   \n",
       "2                                             -2.3                  0.568   \n",
       "3                                             -2.3                  0.568   \n",
       "4                                             -2.3                  0.568   \n",
       "\n",
       "   Length-displacement ratio  Beam-draught ratio  Length-beam ratio  \\\n",
       "0                       4.78                3.99               3.17   \n",
       "1                       4.78                3.99               3.17   \n",
       "2                       4.78                3.99               3.17   \n",
       "3                       4.78                3.99               3.17   \n",
       "4                       4.78                3.99               3.17   \n",
       "\n",
       "   Froude number  Residuary resistance per unit weight of displacement  \n",
       "0          0.150                                               0.27     \n",
       "1          0.175                                               0.47     \n",
       "2          0.200                                               0.78     \n",
       "3          0.225                                               1.18     \n",
       "4          0.250                                               1.82     "
      ]
     },
     "execution_count": 10,
     "metadata": {},
     "output_type": "execute_result"
    }
   ],
   "source": [
    "#show each feature with its given description from UCI\n",
    "Description = df.copy()\n",
    "Description.columns = ['Longitudinal position of the center of buoyancy',\n",
    "                       'Prismatic coefficient',\n",
    "                       'Length-displacement ratio',\n",
    "                       'Beam-draught ratio',\n",
    "                       'Length-beam ratio',\n",
    "                       'Froude number',\n",
    "                       'Residuary resistance per unit weight of displacement']\n",
    "Description.head(5)"
   ]
  },
  {
   "cell_type": "markdown",
   "metadata": {
    "id": "QiUVZ2vgjk6D"
   },
   "source": [
    "## Spliting the dataset into training set and testing set"
   ]
  },
  {
   "cell_type": "code",
   "execution_count": 11,
   "metadata": {
    "id": "43dSd9wtj6EG"
   },
   "outputs": [],
   "source": [
    "#split the dataset into two parts: 80% for training and 20% for testing\n",
    "X_train, X_test, y_train, y_test = train_test_split(df.drop(columns= {'Y'}), df['Y'], test_size=0.2, random_state=42)"
   ]
  },
  {
   "cell_type": "markdown",
   "metadata": {
    "id": "66-QnnpikuKQ"
   },
   "source": [
    "## Preparing the cross validation"
   ]
  },
  {
   "cell_type": "code",
   "execution_count": 12,
   "metadata": {
    "id": "EH78JpA8k2rs"
   },
   "outputs": [],
   "source": [
    "#Prepare a cross validation model with 10 folds\n",
    "Cross_Validation = KFold(n_splits = 10, shuffle=True, random_state = 42)"
   ]
  },
  {
   "cell_type": "markdown",
   "metadata": {
    "id": "fWaeseQfmu3J"
   },
   "source": [
    "# Applying Linear Regression"
   ]
  },
  {
   "cell_type": "code",
   "execution_count": 13,
   "metadata": {
    "colab": {
     "base_uri": "https://localhost:8080/"
    },
    "id": "O8v3zsmQm566",
    "outputId": "15c7709c-7135-4c55-f0ff-d77f49633c8e"
   },
   "outputs": [
    {
     "name": "stdout",
     "output_type": "stream",
     "text": [
      "the performance scores of the linear regression:\n",
      "[0.63376608 0.62594219 0.45493363 0.68910296 0.65469286 0.63242918\n",
      " 0.66671961 0.66464147 0.62232243 0.60806674]\n",
      "Linear Regression Results: \n",
      "Implementation time = 0.049430899999999944\n",
      "Fitting time =  0.049351399999999934\n",
      "Performance =  0.6252617150369819\n"
     ]
    }
   ],
   "source": [
    "LR_implementation_start_time = time.perf_counter()    #start the implementation time counter\n",
    "LR_Model = LinearRegression()  #prepare the linear regression model\n",
    "\n",
    "LR_fitting_start_time = time.perf_counter()  #start the fitting time counter\n",
    "\n",
    "#fit the training set into the linear regression model & evaluate the performance using cross validation scores\n",
    "LR_performance_scores = cross_val_score(LR_Model, X_train, y_train, cv=Cross_Validation) \n",
    "\n",
    "LR_fitting_end_time = time.perf_counter() #stop the fitting time counter\n",
    "\n",
    "LR_implementation_end_time = time.perf_counter() #stop the implemntation time counter\n",
    "\n",
    "print('the performance scores of the linear regression:')\n",
    "print(LR_performance_scores)\n",
    "\n",
    "#get the average of the scores\n",
    "LR_average_performance = LR_performance_scores.mean()\n",
    "\n",
    "#get the implmentation time \n",
    "LR_implementation_time = LR_implementation_end_time - LR_implementation_start_time\n",
    "\n",
    "#get the fitting time\n",
    "LR_fitting_time = LR_fitting_end_time - LR_fitting_start_time\n",
    "\n",
    "print('Linear Regression Results: ')\n",
    "print('Implementation time =', LR_implementation_time)\n",
    "print('Fitting time = ', LR_fitting_time)\n",
    "print('Performance = ', LR_average_performance)"
   ]
  },
  {
   "cell_type": "markdown",
   "metadata": {
    "id": "6UVpJvd5q5tI"
   },
   "source": [
    "# Applying Random Forest Regression"
   ]
  },
  {
   "cell_type": "markdown",
   "metadata": {
    "id": "ZIvO5RBXwpxY"
   },
   "source": [
    "## Choosing the suitable hyperparameters "
   ]
  },
  {
   "cell_type": "code",
   "execution_count": 14,
   "metadata": {
    "id": "BXHfCuLrtubR"
   },
   "outputs": [],
   "source": [
    "RF_implementation_start_time = time.perf_counter()    #start the implementation time counter"
   ]
  },
  {
   "cell_type": "markdown",
   "metadata": {
    "id": "cp6sGjriwAfU"
   },
   "source": [
    "### **1- n-estimators:** number of trees in the forest"
   ]
  },
  {
   "cell_type": "code",
   "execution_count": 15,
   "metadata": {
    "colab": {
     "base_uri": "https://localhost:8080/"
    },
    "id": "13yDXXOCw9AS",
    "outputId": "42204677-0011-49ed-86ea-a36c02f5b17e"
   },
   "outputs": [
    {
     "name": "stdout",
     "output_type": "stream",
     "text": [
      "the fitting time of different N_estimators:\n",
      "[0.07183450000000002, 0.08136270000000012, 0.07645009999999974, 0.08687939999999994, 0.09985029999999995, 0.11256719999999998, 0.12380259999999987, 0.13521009999999967, 0.1498873999999999, 0.1680206000000002, 0.17528900000000025, 0.18722019999999961, 0.19926639999999995, 0.21484490000000012, 0.22141849999999952, 0.2334284000000002, 0.24853729999999974, 0.26148279999999957, 0.27347579999999994]\n",
      "the performance scores of different N_estimators:\n",
      "[0.9883031705399203, 0.9898300777517169, 0.9941663777148196, 0.9919716600371571, 0.9938087071618927, 0.9925345979739971, 0.992165427099496, 0.9931580172715797, 0.9931478832138392, 0.9944307764116743, 0.994009729817099, 0.9933783359088029, 0.9945054364583532, 0.9930081942422323, 0.9942987762224561, 0.9946871558599766, 0.9942653790548818, 0.9940372005177165, 0.9934587009944614]\n"
     ]
    }
   ],
   "source": [
    "N_estimators = []\n",
    "N_estimators_fitting_time = []\n",
    "N_estimators_performance = []\n",
    "\n",
    "#try different values of N_estimators \n",
    "for i in range(1, 20):  \n",
    "  RF_i = RandomForestRegressor(n_estimators = i)\n",
    "  fitting_time_start_i = time.perf_counter()\n",
    "  RF_Scores_i = cross_val_score(RF_i, X_train, y_train, cv=Cross_Validation)\n",
    "  fitting_time_end_i = time.perf_counter()\n",
    "\n",
    "  fitting_time_i = fitting_time_end_i - fitting_time_start_i\n",
    "  performance_i = RF_Scores_i.mean()\n",
    "\n",
    "  N_estimators.append(i)\n",
    "  N_estimators_fitting_time.append(fitting_time_i)\n",
    "  N_estimators_performance.append(performance_i)\n",
    "\n",
    "print('the fitting time of different N_estimators:')\n",
    "print(N_estimators_fitting_time)\n",
    "\n",
    "print('the performance scores of different N_estimators:')\n",
    "print(N_estimators_performance)"
   ]
  },
  {
   "cell_type": "code",
   "execution_count": 16,
   "metadata": {
    "colab": {
     "base_uri": "https://localhost:8080/",
     "height": 296
    },
    "id": "QnGBmq39yr_k",
    "outputId": "75158dad-2440-4699-af61-9fc63bc64abf"
   },
   "outputs": [
    {
     "data": {
      "image/png": "[encoded data removed]",
      "text/plain": [
       "<Figure size 432x288 with 1 Axes>"
      ]
     },
     "metadata": {
      "needs_background": "light"
     },
     "output_type": "display_data"
    }
   ],
   "source": [
    "plt.plot(N_estimators, N_estimators_fitting_time)\n",
    "plt.xlabel('N_estimators') \n",
    "plt.ylabel('N_estimators_fitting_time') \n",
    "plt.title('N_estimators vs. N_estimators_fitting_time')  \n",
    "plt.show()"
   ]
  },
  {
   "cell_type": "code",
   "execution_count": 17,
   "metadata": {
    "colab": {
     "base_uri": "https://localhost:8080/",
     "height": 296
    },
    "id": "v4P9w_nSzFLd",
    "outputId": "7e7facc1-f143-408e-d603-98b75026e96d"
   },
   "outputs": [
    {
     "data": {
      "image/png": "[encoded data removed]",
      "text/plain": [
       "<Figure size 432x288 with 1 Axes>"
      ]
     },
     "metadata": {
      "needs_background": "light"
     },
     "output_type": "display_data"
    }
   ],
   "source": [
    "plt.plot(N_estimators, N_estimators_performance)\n",
    "plt.xlabel('N_estimators') \n",
    "plt.ylabel('N_estimators_performance') \n",
    "plt.title('N_estimators vs. N_estimators_performance')  \n",
    "plt.show()"
   ]
  },
  {
   "cell_type": "markdown",
   "metadata": {
    "id": "kRsK3CECzeek"
   },
   "source": [
    "### **2- criterion:** The function to measure the quality of a split."
   ]
  },
  {
   "cell_type": "code",
   "execution_count": 18,
   "metadata": {
    "colab": {
     "base_uri": "https://localhost:8080/"
    },
    "id": "eq4IKijbzpm_",
    "outputId": "d92ff130-ecf3-4479-8c9e-ecf4f377808b"
   },
   "outputs": [
    {
     "name": "stdout",
     "output_type": "stream",
     "text": [
      "Random Forest regression with mae criterion:\n",
      "Fitting time:  0.17978570000000005\n",
      "Performance:  0.9934542592294815\n",
      "Random Forest regression with mse criterion:\n",
      "Fitting time:  0.09959380000000007\n",
      "Performance:  0.9922939510376498\n"
     ]
    }
   ],
   "source": [
    "RF_mae = RandomForestRegressor(n_estimators=5, criterion='mae')\n",
    "\n",
    "RF_mae_fitting_time_start = time.perf_counter()\n",
    "RF_mae_scores = cross_val_score(RF_mae, X_train, y_train, cv=Cross_Validation)\n",
    "RF_mae_fitting_time_end = time.perf_counter()\n",
    "print('Random Forest regression with mae criterion:')\n",
    "print('Fitting time: ', RF_mae_fitting_time_end - RF_mae_fitting_time_start)\n",
    "print('Performance: ', RF_mae_scores.mean())\n",
    "\n",
    "RF_mse = RandomForestRegressor(n_estimators=5, criterion='mse')\n",
    "\n",
    "RF_mse_fitting_time_start = time.perf_counter()\n",
    "RF_mse_scores = cross_val_score(RF_mse, X_train, y_train, cv=Cross_Validation)\n",
    "RF_mse_fitting_time_end = time.perf_counter()\n",
    "print('Random Forest regression with mse criterion:')\n",
    "print('Fitting time: ',RF_mse_fitting_time_end - RF_mse_fitting_time_start)\n",
    "print('Performance: ', RF_mse_scores.mean())"
   ]
  },
  {
   "cell_type": "markdown",
   "metadata": {
    "id": "hGq6dpqV2Dni"
   },
   "source": [
    "### **3- max_features:** The number of features to consider when looking for the best split"
   ]
  },
  {
   "cell_type": "code",
   "execution_count": 19,
   "metadata": {
    "colab": {
     "base_uri": "https://localhost:8080/"
    },
    "id": "V-pnIjRJ2Qy6",
    "outputId": "96a01fff-589c-45d7-fe66-2d0624d8de5b"
   },
   "outputs": [
    {
     "name": "stdout",
     "output_type": "stream",
     "text": [
      "Random Forest regression with max_features = n:\n",
      "Fitting time:  0.10507160000000049\n",
      "Performance:  0.993427621281293\n",
      "Random Forest regression with max_features = sqrt(n):\n",
      "Fitting time:  0.1042879000000001\n",
      "Performance:  0.9449279213000432\n",
      "Random Forest regression with max_features = log2(n):\n",
      "Fitting time:  0.0933900999999997\n",
      "Performance:  0.935839313373636\n"
     ]
    }
   ],
   "source": [
    "RF_auto = RandomForestRegressor(n_estimators=5, criterion='mse', max_features=\"auto\")\n",
    "RF_auto_fitting_time_start = time.perf_counter()\n",
    "RF_auto_scores = cross_val_score(RF_auto, X_train, y_train, cv=Cross_Validation)\n",
    "RF_auto_fitting_time_end = time.perf_counter()\n",
    "print('Random Forest regression with max_features = n:')\n",
    "print('Fitting time: ', RF_auto_fitting_time_end - RF_auto_fitting_time_start)\n",
    "print('Performance: ', RF_auto_scores.mean())\n",
    "\n",
    "RF_sqrt = RandomForestRegressor(n_estimators=5, criterion='mse', max_features=\"sqrt\")\n",
    "RF_sqrt_fitting_time_start = time.perf_counter()\n",
    "RF_sqrt_scores = cross_val_score(RF_sqrt, X_train, y_train, cv=Cross_Validation)\n",
    "RF_sqrt_fitting_time_end = time.perf_counter()\n",
    "print('Random Forest regression with max_features = sqrt(n):')\n",
    "print('Fitting time: ', RF_sqrt_fitting_time_end - RF_sqrt_fitting_time_start)\n",
    "print('Performance: ', RF_sqrt_scores.mean())\n",
    "\n",
    "RF_log2 = RandomForestRegressor(n_estimators=5, criterion='mse', max_features=\"log2\")\n",
    "RF_log2_fitting_time_start = time.perf_counter()\n",
    "RF_log2_scores = cross_val_score(RF_log2, X_train, y_train, cv=Cross_Validation)\n",
    "RF_log2_fitting_time_end = time.perf_counter()\n",
    "print('Random Forest regression with max_features = log2(n):')\n",
    "print('Fitting time: ', RF_log2_fitting_time_end - RF_log2_fitting_time_start)\n",
    "print('Performance: ', RF_log2_scores.mean())"
   ]
  },
  {
   "cell_type": "markdown",
   "metadata": {
    "id": "5VIk9Hkb3jqU"
   },
   "source": [
    "## Getting the final model"
   ]
  },
  {
   "cell_type": "code",
   "execution_count": 20,
   "metadata": {
    "colab": {
     "base_uri": "https://localhost:8080/"
    },
    "id": "roNUkIVg3xh-",
    "outputId": "7b70c2f3-3b18-43f8-986d-1dee98fe9dba"
   },
   "outputs": [
    {
     "name": "stdout",
     "output_type": "stream",
     "text": [
      "the performance scores of the random forest regression:\n",
      "[0.99761822 0.99139163 0.9964383  0.9920859  0.98543433 0.9973221\n",
      " 0.99443778 0.99184143 0.99405372 0.98937542]\n",
      "Random Forest Regression Results: \n",
      "Implementation time = 4.2592351\n",
      "Fitting time =  0.1038553000000002\n",
      "Performance =  0.9929998832251329\n"
     ]
    }
   ],
   "source": [
    "RF_Model = RandomForestRegressor(n_estimators=5, criterion='mse', max_features=\"auto\")\n",
    "\n",
    "RF_fitting_start_time = time.perf_counter()  #start the fitting time counter\n",
    "#fit the training set into the random fores regression model & evaluate the performance using cross validation scores\n",
    "RF_performance_scores = cross_val_score(RF_Model, X_train, y_train, cv=Cross_Validation) \n",
    "\n",
    "RF_fitting_end_time = time.perf_counter() #stop the fitting time counter\n",
    "\n",
    "RF_implementation_end_time = time.perf_counter() #stop the implemntation time counter\n",
    "\n",
    "print('the performance scores of the random forest regression:')\n",
    "print(RF_performance_scores)\n",
    "\n",
    "#get the average of the scores\n",
    "RF_average_performance = RF_performance_scores.mean()\n",
    "\n",
    "#get the implmentation time \n",
    "RF_implementation_time = RF_implementation_end_time - RF_implementation_start_time\n",
    "\n",
    "#get the fitting time\n",
    "RF_fitting_time = RF_fitting_end_time - RF_fitting_start_time\n",
    "\n",
    "print('Random Forest Regression Results: ')\n",
    "print('Implementation time =', RF_implementation_time)\n",
    "print('Fitting time = ', RF_fitting_time)\n",
    "print('Performance = ', RF_average_performance)"
   ]
  },
  {
   "cell_type": "markdown",
   "metadata": {
    "id": "BWCj7fWG44Ld"
   },
   "source": [
    "# Applying K-Nearest Neighbors Regression"
   ]
  },
  {
   "cell_type": "markdown",
   "metadata": {
    "id": "RTL5Usx65JcK"
   },
   "source": [
    "## Choosing the suitable hyperparameters "
   ]
  },
  {
   "cell_type": "code",
   "execution_count": 21,
   "metadata": {
    "id": "2PIs96TI5Cof"
   },
   "outputs": [],
   "source": [
    "KNN_implementation_start_time = time.perf_counter()    #start the implementation time counter"
   ]
  },
  {
   "cell_type": "markdown",
   "metadata": {
    "id": "C-ZvLKVI5nY5"
   },
   "source": [
    "### 1- **n_neighbors** : Number of neighbors to use by default for kneighbors queries"
   ]
  },
  {
   "cell_type": "code",
   "execution_count": 22,
   "metadata": {
    "colab": {
     "base_uri": "https://localhost:8080/"
    },
    "id": "OnWCyF4E9NkL",
    "outputId": "34baeb80-48c7-40b8-f3a5-ed4b9afddf81"
   },
   "outputs": [
    {
     "name": "stdout",
     "output_type": "stream",
     "text": [
      "221\n"
     ]
    }
   ],
   "source": [
    "#getting the maximum number of neighbors that could be used\n",
    "max_possible_k = math.floor(0.9 * len(X_train))\n",
    "print(max_possible_k)"
   ]
  },
  {
   "cell_type": "markdown",
   "metadata": {
    "id": "9KUtIWi79J1h"
   },
   "source": [
    "As it is very hard to compute the results of the regression models by changing the k from 1 till max_possible_k, we can use for loop with large step. "
   ]
  },
  {
   "cell_type": "code",
   "execution_count": 23,
   "metadata": {
    "colab": {
     "base_uri": "https://localhost:8080/"
    },
    "id": "TiOxdXJc6MTu",
    "outputId": "5d1c653e-bb2c-49c4-e9a5-0d2871f8a619"
   },
   "outputs": [
    {
     "name": "stdout",
     "output_type": "stream",
     "text": [
      "the fitting time of different N_neighbors:\n",
      "[0.042419399999999996, 0.04924189999999928, 0.03888649999999938, 0.03719649999999941, 0.037982899999999375, 0.03542320000000032, 0.03494229999999998, 0.038126000000000104, 0.03573720000000069, 0.03623469999999962]\n",
      "the performance scores of different N_neighbors:\n",
      "[0.6329262355500526, 0.12767278692088108, 0.06322288054239274, 0.03344175148090147, 0.02753597500101639, 0.000514663641269808, 0.0002825865909876435, -0.00011296985781958924, -0.01576019164673508, -0.0011229783060060505]\n"
     ]
    }
   ],
   "source": [
    "N_neighbors = []\n",
    "N_neighbors_fitting_time = []\n",
    "N_neighbors_performance = []\n",
    "\n",
    "#try different values of N_neighbors\n",
    "mx = max_possible_k\n",
    "step = math.floor(mx/10) \n",
    "for i in range(1, mx, step):  \n",
    "  KNN_i = neighbors.KNeighborsRegressor(n_neighbors = i)\n",
    "  fitting_time_start_i = time.perf_counter()\n",
    "  KNN_Scores_i = cross_val_score(KNN_i, X_train, y_train, cv=Cross_Validation)\n",
    "  fitting_time_end_i = time.perf_counter()\n",
    "\n",
    "  fitting_time_i = fitting_time_end_i - fitting_time_start_i\n",
    "  performance_i = KNN_Scores_i.mean()\n",
    "\n",
    "  N_neighbors.append(i)\n",
    "  N_neighbors_fitting_time.append(fitting_time_i)\n",
    "  N_neighbors_performance.append(performance_i)\n",
    "\n",
    "print('the fitting time of different N_neighbors:')\n",
    "print(N_neighbors_fitting_time)\n",
    "\n",
    "print('the performance scores of different N_neighbors:')\n",
    "print(N_neighbors_performance)"
   ]
  },
  {
   "cell_type": "code",
   "execution_count": 24,
   "metadata": {
    "colab": {
     "base_uri": "https://localhost:8080/",
     "height": 296
    },
    "id": "EvRP8Zpc7gdT",
    "outputId": "450f78fb-d775-4cba-8513-ff037c5175f7"
   },
   "outputs": [
    {
     "data": {
      "image/png": "[encoded data removed]",
      "text/plain": [
       "<Figure size 432x288 with 1 Axes>"
      ]
     },
     "metadata": {
      "needs_background": "light"
     },
     "output_type": "display_data"
    }
   ],
   "source": [
    "plt.plot(N_neighbors, N_neighbors_fitting_time)\n",
    "plt.xlabel('N_neighbors') \n",
    "plt.ylabel('N_neighbors_fitting_time') \n",
    "plt.title('N_neighbors vs. N_neighbors_fitting_time')  \n",
    "plt.show()"
   ]
  },
  {
   "cell_type": "code",
   "execution_count": 25,
   "metadata": {
    "colab": {
     "base_uri": "https://localhost:8080/",
     "height": 296
    },
    "id": "VP7n6IU47590",
    "outputId": "17ff1fbe-6077-4fdc-cd3f-dd70dc73c8cd"
   },
   "outputs": [
    {
     "data": {
      "image/png": "[encoded data removed]",
      "text/plain": [
       "<Figure size 432x288 with 1 Axes>"
      ]
     },
     "metadata": {
      "needs_background": "light"
     },
     "output_type": "display_data"
    }
   ],
   "source": [
    "plt.plot(N_neighbors, N_neighbors_performance)\n",
    "plt.xlabel('N_neighbors') \n",
    "plt.ylabel('N_neighbors_performance') \n",
    "plt.title('N_neighbors vs. N_neighbors_performance')  \n",
    "plt.show()"
   ]
  },
  {
   "cell_type": "markdown",
   "metadata": {
    "id": "Uj1qasIh87qK"
   },
   "source": [
    "we can notice that the performance decreases when the k increases. So we can repeat the same loop by taking the first part and decreasing the step to have better results."
   ]
  },
  {
   "cell_type": "code",
   "execution_count": 26,
   "metadata": {
    "colab": {
     "base_uri": "https://localhost:8080/"
    },
    "id": "EFJ_T4J3_awk",
    "outputId": "26b04e93-6fd7-4eda-8116-5acc7648ab2c"
   },
   "outputs": [
    {
     "name": "stdout",
     "output_type": "stream",
     "text": [
      "the fitting time of different N_neighbors:\n",
      "[0.04664980000000085, 0.03644180000000041, 0.03680619999999912, 0.03682309999999944, 0.03761290000000095, 0.03669739999999955, 0.03672079999999944, 0.03656190000000059, 0.03664350000000027, 0.03741789999999945, 0.03652499999999925]\n",
      "the performance scores of different N_neighbors:\n",
      "[0.6329262355500526, 0.517679153368545, 0.338886880583615, 0.2262183628272533, 0.24131108209837576, 0.2782279889571254, 0.28227357211457565, 0.24868137249362224, 0.19224346941351678, 0.14857690361237874, 0.131343923619376]\n"
     ]
    }
   ],
   "source": [
    "N_neighbors = []\n",
    "N_neighbors_fitting_time = []\n",
    "N_neighbors_performance = []\n",
    "\n",
    "#try different values of N_neighbors\n",
    "mx = math.floor(max_possible_k/10)\n",
    "step = math.floor(mx/10) \n",
    "for i in range(1, mx, step):  \n",
    "  KNN_i = neighbors.KNeighborsRegressor(n_neighbors = i)\n",
    "  fitting_time_start_i = time.perf_counter()\n",
    "  KNN_Scores_i = cross_val_score(KNN_i, X_train, y_train, cv=Cross_Validation)\n",
    "  fitting_time_end_i = time.perf_counter()\n",
    "\n",
    "  fitting_time_i = fitting_time_end_i - fitting_time_start_i\n",
    "  performance_i = KNN_Scores_i.mean()\n",
    "\n",
    "  N_neighbors.append(i)\n",
    "  N_neighbors_fitting_time.append(fitting_time_i)\n",
    "  N_neighbors_performance.append(performance_i)\n",
    "\n",
    "print('the fitting time of different N_neighbors:')\n",
    "print(N_neighbors_fitting_time)\n",
    "\n",
    "print('the performance scores of different N_neighbors:')\n",
    "print(N_neighbors_performance)"
   ]
  },
  {
   "cell_type": "code",
   "execution_count": 27,
   "metadata": {
    "colab": {
     "base_uri": "https://localhost:8080/",
     "height": 296
    },
    "id": "rmQ_POxp_oSt",
    "outputId": "936e3c69-3000-4b6b-d46f-9ffc310f1662"
   },
   "outputs": [
    {
     "data": {
      "image/png": "[encoded data removed]",
      "text/plain": [
       "<Figure size 432x288 with 1 Axes>"
      ]
     },
     "metadata": {
      "needs_background": "light"
     },
     "output_type": "display_data"
    }
   ],
   "source": [
    "plt.plot(N_neighbors, N_neighbors_fitting_time)\n",
    "plt.xlabel('N_neighbors') \n",
    "plt.ylabel('N_neighbors_fitting_time') \n",
    "plt.title('N_neighbors vs. N_neighbors_fitting_time')  \n",
    "plt.show()"
   ]
  },
  {
   "cell_type": "code",
   "execution_count": 28,
   "metadata": {
    "colab": {
     "base_uri": "https://localhost:8080/",
     "height": 296
    },
    "id": "8iCYFOi__q1y",
    "outputId": "5d96d0c8-a470-4742-dd10-6e6fe54e2767"
   },
   "outputs": [
    {
     "data": {
      "image/png": "[encoded data removed]",
      "text/plain": [
       "<Figure size 432x288 with 1 Axes>"
      ]
     },
     "metadata": {
      "needs_background": "light"
     },
     "output_type": "display_data"
    }
   ],
   "source": [
    "plt.plot(N_neighbors, N_neighbors_performance)\n",
    "plt.xlabel('N_neighbors') \n",
    "plt.ylabel('N_neighbors_performance') \n",
    "plt.title('N_neighbors vs. N_neighbors_performance')  \n",
    "plt.show()"
   ]
  },
  {
   "cell_type": "code",
   "execution_count": 29,
   "metadata": {
    "colab": {
     "base_uri": "https://localhost:8080/"
    },
    "id": "TVLqr66H8DHA",
    "outputId": "fefd6123-e477-4fe1-984f-f84d3a59e51b"
   },
   "outputs": [
    {
     "name": "stdout",
     "output_type": "stream",
     "text": [
      "Best K: 1\n",
      "Best K performance: 0.6329262355500526\n",
      "Best K fitting time: 0.04664980000000085\n"
     ]
    }
   ],
   "source": [
    "#getting the information of best performance:\n",
    "KNN_best_k_performance = max(N_neighbors_performance)\n",
    "KNN_best_k_index = N_neighbors_performance.index(KNN_best_k_performance)\n",
    "KNN_best_k = N_neighbors[KNN_best_k_index]\n",
    "KNN_best_k_fitting_time = N_neighbors_fitting_time[KNN_best_k_index]\n",
    "\n",
    "print('Best K:', KNN_best_k)\n",
    "print('Best K performance:', KNN_best_k_performance)\n",
    "print('Best K fitting time:', KNN_best_k_fitting_time)"
   ]
  },
  {
   "cell_type": "markdown",
   "metadata": {
    "id": "mclVwyfABkFj"
   },
   "source": [
    "### **2- weights:** weight function used in prediction"
   ]
  },
  {
   "cell_type": "code",
   "execution_count": 30,
   "metadata": {
    "colab": {
     "base_uri": "https://localhost:8080/"
    },
    "id": "DrxHt4UXByO0",
    "outputId": "6856e83d-b138-42b1-c202-a1ac94df4cf8"
   },
   "outputs": [
    {
     "name": "stdout",
     "output_type": "stream",
     "text": [
      "K-Nearest Neighbors regression with uniform weight:\n",
      "Fitting time:  0.0473081999999998\n",
      "Performance:  0.6329262355500526\n",
      "K-Nearest Neighbors regression with distance weight:\n",
      "Fitting time:  0.04255599999999937\n",
      "Performance:  0.6329262355500526\n"
     ]
    }
   ],
   "source": [
    "KNN_uniform = neighbors.KNeighborsRegressor(n_neighbors = KNN_best_k, weights='uniform')\n",
    "\n",
    "KNN_uniform_fitting_time_start = time.perf_counter()\n",
    "KNN_uniform_scores = cross_val_score(KNN_uniform, X_train, y_train, cv=Cross_Validation)\n",
    "KNN_uniform_fitting_time_end = time.perf_counter()\n",
    "print('K-Nearest Neighbors regression with uniform weight:')\n",
    "print('Fitting time: ', KNN_uniform_fitting_time_end - KNN_uniform_fitting_time_start)\n",
    "print('Performance: ', KNN_uniform_scores.mean())\n",
    "\n",
    "KNN_distance = neighbors.KNeighborsRegressor(n_neighbors = KNN_best_k, weights='distance')\n",
    "\n",
    "KNN_distance_fitting_time_start = time.perf_counter()\n",
    "KNN_distance_scores = cross_val_score(KNN_distance, X_train, y_train, cv=Cross_Validation)\n",
    "KNN_distance_fitting_time_end = time.perf_counter()\n",
    "print('K-Nearest Neighbors regression with distance weight:')\n",
    "print('Fitting time: ', KNN_distance_fitting_time_end - KNN_distance_fitting_time_start)\n",
    "print('Performance: ', KNN_distance_scores.mean())"
   ]
  },
  {
   "cell_type": "markdown",
   "metadata": {
    "id": "qyNLyKvoDgqi"
   },
   "source": [
    "## Getting the final model"
   ]
  },
  {
   "cell_type": "code",
   "execution_count": 31,
   "metadata": {
    "colab": {
     "base_uri": "https://localhost:8080/"
    },
    "id": "UBdBDUmKDk8I",
    "outputId": "93ee25ce-2944-46e4-964d-112b90d8ba54"
   },
   "outputs": [
    {
     "name": "stdout",
     "output_type": "stream",
     "text": [
      "the performance scores of the random forest regression:\n",
      "[0.74482129 0.52332642 0.43470465 0.21913199 0.75945428 0.80289575\n",
      " 0.83356984 0.78392522 0.80819368 0.41923923]\n",
      "K-Nearest Neighbors Regression Results: \n",
      "Implementation time = 1.6778560000000002\n",
      "Fitting time =  0.04417129999999858\n",
      "Performance =  0.6329262355500526\n"
     ]
    }
   ],
   "source": [
    "KNN_Model = neighbors.KNeighborsRegressor(n_neighbors = KNN_best_k, weights='distance')\n",
    "\n",
    "KNN_fitting_start_time = time.perf_counter()  #start the fitting time counter\n",
    "#fit the training set into the K-Nearest Neighbors regression model & evaluate the performance using cross validation scores\n",
    "KNN_performance_scores = cross_val_score(KNN_Model, X_train, y_train, cv=Cross_Validation) \n",
    "\n",
    "KNN_fitting_end_time = time.perf_counter() #stop the fitting time counter\n",
    "\n",
    "KNN_implementation_end_time = time.perf_counter() #stop the implemntation time counter\n",
    "\n",
    "print('the performance scores of the random forest regression:')\n",
    "print(KNN_performance_scores)\n",
    "\n",
    "#get the average of the scores\n",
    "KNN_average_performance = KNN_performance_scores.mean()\n",
    "\n",
    "#get the implmentation time \n",
    "KNN_implementation_time = KNN_implementation_end_time - KNN_implementation_start_time\n",
    "\n",
    "#get the fitting time\n",
    "KNN_fitting_time = KNN_fitting_end_time - KNN_fitting_start_time\n",
    "\n",
    "print('K-Nearest Neighbors Regression Results: ')\n",
    "print('Implementation time =', KNN_implementation_time)\n",
    "print('Fitting time = ', KNN_fitting_time)\n",
    "print('Performance = ', KNN_average_performance)"
   ]
  },
  {
   "cell_type": "markdown",
   "metadata": {
    "id": "028tZfiBFYsD"
   },
   "source": [
    "# Comparision of models"
   ]
  },
  {
   "cell_type": "code",
   "execution_count": 32,
   "metadata": {
    "colab": {
     "base_uri": "https://localhost:8080/"
    },
    "id": "gT_r5fNUEUiK",
    "outputId": "e6e87a83-2f50-4afb-e07e-16af5e17d5df"
   },
   "outputs": [
    {
     "name": "stdout",
     "output_type": "stream",
     "text": [
      "╒══════════════════════════╤═══════════════════════╤════════════════╤═══════════════╕\n",
      "│ Parameters               │   Implementation time │   Fitting time │   Performance │\n",
      "╞══════════════════════════╪═══════════════════════╪════════════════╪═══════════════╡\n",
      "│ Linear Regression        │             0.0494309 │      0.0493514 │      0.625262 │\n",
      "├──────────────────────────┼───────────────────────┼────────────────┼───────────────┤\n",
      "│ Random Forest Regression │             4.25924   │      0.103855  │      0.993    │\n",
      "├──────────────────────────┼───────────────────────┼────────────────┼───────────────┤\n",
      "│ KNN Regression           │             1.67786   │      0.0441713 │      0.632926 │\n",
      "╘══════════════════════════╧═══════════════════════╧════════════════╧═══════════════╛\n"
     ]
    }
   ],
   "source": [
    "results_table = [['Parameters', 'Implementation time', 'Fitting time', 'Performance'],\n",
    "                 ['Linear Regression', LR_implementation_time, LR_fitting_time, LR_average_performance],\n",
    "                 ['Random Forest Regression', RF_implementation_time, RF_fitting_time, RF_average_performance],\n",
    "                 ['KNN Regression', KNN_implementation_time, KNN_fitting_time, KNN_average_performance]]\n",
    "print(tabulate(results_table, headers='firstrow', tablefmt='fancy_grid'))\n"
   ]
  },
  {
   "cell_type": "markdown",
   "metadata": {
    "id": "8L1mrvigFezJ"
   },
   "source": [
    "# Testing"
   ]
  },
  {
   "cell_type": "markdown",
   "metadata": {
    "id": "sed8SRDYFsZy"
   },
   "source": [
    "## choose and test Linear regression"
   ]
  },
  {
   "cell_type": "code",
   "execution_count": 33,
   "metadata": {
    "colab": {
     "base_uri": "https://localhost:8080/"
    },
    "id": "peTeM8glFhJI",
    "outputId": "19c41059-c4c5-4563-a793-8f7f8d139c4b"
   },
   "outputs": [
    {
     "name": "stdout",
     "output_type": "stream",
     "text": [
      "Linear Regression MSE:  54.009119041137104\n"
     ]
    }
   ],
   "source": [
    "LR_Model.fit(X_train, y_train)\n",
    "LR_y_pred = LR_Model.predict(X_test)\n",
    "print('Linear Regression MSE: ', metrics.mean_squared_error(y_test, LR_y_pred))"
   ]
  },
  {
   "cell_type": "markdown",
   "metadata": {
    "id": "tiDDpIsEGUTg"
   },
   "source": [
    "## choose and test random forest regression"
   ]
  },
  {
   "cell_type": "code",
   "execution_count": 34,
   "metadata": {
    "colab": {
     "base_uri": "https://localhost:8080/"
    },
    "id": "DWeYwigFGO_7",
    "outputId": "41a4a201-7373-4665-c1a2-518a9ae9bd10"
   },
   "outputs": [
    {
     "name": "stdout",
     "output_type": "stream",
     "text": [
      "Random Forest Regression MSE:  0.6761338709677411\n"
     ]
    }
   ],
   "source": [
    "RF_Model.fit(X_train, y_train)\n",
    "RF_y_pred = RF_Model.predict(X_test)\n",
    "print('Random Forest Regression MSE: ', metrics.mean_squared_error(y_test, RF_y_pred))"
   ]
  },
  {
   "cell_type": "markdown",
   "metadata": {
    "id": "6Vq-OzQWGkz2"
   },
   "source": [
    "## choose and test K-Nearest Neighbors regression"
   ]
  },
  {
   "cell_type": "code",
   "execution_count": 35,
   "metadata": {
    "colab": {
     "base_uri": "https://localhost:8080/"
    },
    "id": "EB1BWxwbGqzm",
    "outputId": "803bb235-9e7b-41d2-958b-a597a2fba80a"
   },
   "outputs": [
    {
     "name": "stdout",
     "output_type": "stream",
     "text": [
      "Random Forest Regression MSE:  31.32443548387096\n"
     ]
    }
   ],
   "source": [
    "KNN_Model.fit(X_train, y_train)\n",
    "KNN_y_pred = KNN_Model.predict(X_test)\n",
    "print('Random Forest Regression MSE: ', metrics.mean_squared_error(y_test, KNN_y_pred))"
   ]
  }
 ],
 "metadata": {
  "colab": {
   "collapsed_sections": [
    "F0iLj6AtfFia"
   ],
   "name": "Khaled second dataset.ipynb",
   "provenance": []
  },
  "kernelspec": {
   "display_name": "Python 3",
   "language": "python",
   "name": "python3"
  },
  "language_info": {
   "codemirror_mode": {
    "name": "ipython",
    "version": 3
   },
   "file_extension": ".py",
   "mimetype": "text/x-python",
   "name": "python",
   "nbconvert_exporter": "python",
   "pygments_lexer": "ipython3",
   "version": "3.8.5"
  }
 },
 "nbformat": 4,
 "nbformat_minor": 1
}
